{
 "cells": [
  {
   "cell_type": "code",
   "execution_count": 1,
   "id": "banned-quantum",
   "metadata": {},
   "outputs": [],
   "source": [
    "import numpy as np\n",
    "import pandas as pd\n",
    "import os\n",
    "from glob import glob\n",
    "import matplotlib.pylab as plt\n",
    "from tqdm import tqdm\n",
    "from sklearn.cluster import KMeans\n",
    "from Preprocessing2 import Signal_process, Stat_process \n",
    "from sklearn.preprocessing import StandardScaler, MinMaxScaler\n",
    "from icecream import ic \n",
    "from scipy import signal\n",
    "import pickle\n",
    "%matplotlib inline"
   ]
  },
  {
   "cell_type": "code",
   "execution_count": 46,
   "id": "virgin-henry",
   "metadata": {},
   "outputs": [],
   "source": [
    "import tensorflow as tf\n",
    "from tensorflow.keras import backend as K\n",
    "from tensorflow.keras.optimizers import Adam\n",
    "from tensorflow.keras.models import Model\n",
    "from tensorflow.keras.layers import Input, Dense, Conv2D, MaxPooling2D, MaxPooling1D, UpSampling2D,Conv2DTranspose, Flatten, Reshape, Concatenate, AveragePooling2D\n",
    "from tensorflow.keras.layers import UpSampling2D,Conv2DTranspose, Flatten, Reshape, Concatenate, AveragePooling2D, MaxPooling1D, Conv1D, Conv1DTranspose\n",
    "from tensorflow.keras.layers import Activation\n",
    "from tensorflow.keras.layers import LeakyReLU\n",
    "from tensorflow.keras.layers import BatchNormalization, Dropout, concatenate\n",
    "from tensorflow.keras.backend import sigmoid\n",
    "from tensorflow.keras.utils import get_custom_objects\n",
    "from tensorflow import keras\n",
    "from tensorflow.keras import callbacks as cb\n",
    "from tensorflow.keras.layers import Input, GRU, Dense, Reshape, LSTM, RepeatVector, TimeDistributed\n",
    "\n",
    "tf.random.set_seed(121)"
   ]
  },
  {
   "cell_type": "markdown",
   "id": "structured-terry",
   "metadata": {},
   "source": [
    "# Load Data"
   ]
  },
  {
   "cell_type": "code",
   "execution_count": 3,
   "id": "christian-inspiration",
   "metadata": {},
   "outputs": [],
   "source": [
    "path = 'D:/Data/CMAPSSData'\n",
    "\n",
    "train_path_list = sorted(glob(path + '/train*'))\n",
    "test_path_list = sorted(glob(path + '/test*'))\n",
    "rul_path_list = sorted(glob(path + '/RUL*'))"
   ]
  },
  {
   "cell_type": "code",
   "execution_count": 4,
   "id": "enclosed-oriental",
   "metadata": {},
   "outputs": [],
   "source": [
    "col_name = ['unit number', 'time', 'op1', 'op2', 'op3']\n",
    "temp = ['sensor %d'%(i+1) for i in range(23)]\n",
    "\n",
    "load_col_name = col_name + temp\n",
    "col_name = load_col_name[:-2]"
   ]
  },
  {
   "cell_type": "code",
   "execution_count": 5,
   "id": "chinese-papua",
   "metadata": {},
   "outputs": [],
   "source": [
    "train = []\n",
    "for t_path in train_path_list:\n",
    "    temp = pd.read_table(t_path, sep = ' ', header = None, names=load_col_name)\n",
    "    train.append(temp[col_name])\n",
    "\n",
    "test = []\n",
    "for t_path in test_path_list:\n",
    "    temp = pd.read_table(t_path, sep = ' ', header = None, names=load_col_name)\n",
    "    test.append(temp[col_name])\n",
    "    \n",
    "RUL = []\n",
    "for r_path in rul_path_list:\n",
    "    temp = pd.read_table(r_path, header = None, names = ['RUL'])\n",
    "    RUL.append(temp)"
   ]
  },
  {
   "cell_type": "markdown",
   "id": "israeli-swift",
   "metadata": {},
   "source": [
    "# Train, Test index seperate by unit number and time"
   ]
  },
  {
   "cell_type": "code",
   "execution_count": 6,
   "id": "martial-algebra",
   "metadata": {},
   "outputs": [],
   "source": [
    "train_index = []\n",
    "for key, value in enumerate(train):\n",
    "    train_index.append(train[key][['unit number', 'time']])\n",
    "    train[key] = train[key].drop(['unit number', 'time'], axis = 1)\n",
    "    \n",
    "test_index = []\n",
    "for key, value in enumerate(test):\n",
    "    test_index.append(test[key][['unit number', 'time']])\n",
    "    test[key] = test[key].drop(['unit number', 'time'], axis = 1)"
   ]
  },
  {
   "cell_type": "markdown",
   "id": "unlimited-feelings",
   "metadata": {},
   "source": [
    "# Data length save"
   ]
  },
  {
   "cell_type": "code",
   "execution_count": 7,
   "id": "sitting-gentleman",
   "metadata": {},
   "outputs": [],
   "source": [
    "unit_num_train = []\n",
    "for D in train_index:\n",
    "    unit_num_train.append(D.groupby('unit number').count().shape[0])\n",
    "    \n",
    "unit_num_test = []\n",
    "for D in test_index:\n",
    "    unit_num_test.append(D.groupby('unit number').count().shape[0])"
   ]
  },
  {
   "cell_type": "code",
   "execution_count": 8,
   "id": "necessary-coordinator",
   "metadata": {},
   "outputs": [],
   "source": [
    "label = []\n",
    "\n",
    "for key, values in enumerate(unit_num_train):\n",
    "    temp = []\n",
    "    for i in range(values):\n",
    "        index = train_index[key].groupby('unit number').get_group(i+1).index\n",
    "        N = len(index)\n",
    "        rul = np.linspace(0,1,N)\n",
    "        temp.append(rul)\n",
    "    temp = np.concatenate(temp)\n",
    "    label.append(temp)"
   ]
  },
  {
   "cell_type": "code",
   "execution_count": 9,
   "id": "postal-championship",
   "metadata": {},
   "outputs": [],
   "source": [
    "label_test = []\n",
    "\n",
    "for key, values in enumerate(unit_num_test):\n",
    "    temp = []\n",
    "    for i in range(values):\n",
    "        index = test_index[key].groupby('unit number').get_group(i+1).index\n",
    "        N = len(index)\n",
    "        rul = np.linspace(0,1,N)\n",
    "        temp.append(rul)\n",
    "    temp = np.concatenate(temp)\n",
    "    label_test.append(temp)"
   ]
  },
  {
   "cell_type": "markdown",
   "id": "consistent-ordinance",
   "metadata": {},
   "source": [
    "# Scaler(optional)"
   ]
  },
  {
   "cell_type": "code",
   "execution_count": 10,
   "id": "palestinian-steam",
   "metadata": {},
   "outputs": [],
   "source": [
    "#SCALE = 'None' # MINMAX, STANDARD\n",
    "\n",
    "def NORM(TRAIN, SCALE):\n",
    "    if SCALE == 'MINMAX':\n",
    "        scaler_norm = []\n",
    "        for key, values in enumerate(TRAIN):\n",
    "            scaler_norm_ = MinMaxScaler().fit(values)\n",
    "            scaler_norm.append(scaler_norm_)\n",
    "            TRAIN[key] = scaler_norm_.transform(values)\n",
    "            TRAIN[key] = pd.DataFrame(TRAIN[key], columns = col_name[2:])\n",
    "\n",
    "    if SCALE == 'STANDARD':\n",
    "        scaler_norm = []\n",
    "        for key, values in enumerate(TRAIN):\n",
    "            scaler_norm_ = StandardScaler().fit(values)\n",
    "            scaler_norm.append(scaler_norm_)\n",
    "            TRAIN[key] = scaler_norm_.transform(values)\n",
    "            TRAIN[key] = pd.DataFrame(TRAIN[key], columns = col_name[2:])\n",
    "    \n",
    "    return TRAIN, scaler_norm"
   ]
  },
  {
   "cell_type": "markdown",
   "id": "adopted-cleaner",
   "metadata": {},
   "source": [
    "# feature selection process"
   ]
  },
  {
   "cell_type": "code",
   "execution_count": 11,
   "id": "french-programmer",
   "metadata": {},
   "outputs": [
    {
     "data": {
      "text/plain": [
       "['time',\n",
       " 'op1',\n",
       " 'op2',\n",
       " 'sensor 2',\n",
       " 'sensor 3',\n",
       " 'sensor 4',\n",
       " 'sensor 11',\n",
       " 'sensor 15',\n",
       " 'sensor 20',\n",
       " 'sensor 21']"
      ]
     },
     "execution_count": 11,
     "metadata": {},
     "output_type": "execute_result"
    }
   ],
   "source": [
    "minmax_train, scaler = NORM(train, 'MINMAX')\n",
    "\n",
    "train_ = pd.concat([train_index[0], minmax_train[0]], axis = 1)\n",
    "variance_check = train_.groupby('unit number').std()\n",
    "bol = variance_check > 0.1\n",
    "selected_idx = np.where(bol.sum(axis=0) == 100)[0] + 1\n",
    "selected_col = [col_name[index] for index in selected_idx]\n",
    "selected_col"
   ]
  },
  {
   "cell_type": "code",
   "execution_count": 12,
   "id": "recovered-sodium",
   "metadata": {},
   "outputs": [],
   "source": [
    "minmax_train[0] = minmax_train[0][selected_col[1:]]\n",
    "minmax_train[1] = minmax_train[1][selected_col[1:]]\n",
    "minmax_train[2] = minmax_train[2][selected_col[1:]]\n",
    "minmax_train[3] = minmax_train[3][selected_col[1:]]"
   ]
  },
  {
   "cell_type": "code",
   "execution_count": 13,
   "id": "operating-company",
   "metadata": {},
   "outputs": [],
   "source": [
    "minmax_train[0]['RUL'] = label[0]\n",
    "minmax_train[1]['RUL'] = label[1]\n",
    "minmax_train[2]['RUL'] = label[2]\n",
    "minmax_train[3]['RUL'] = label[3]"
   ]
  },
  {
   "cell_type": "markdown",
   "id": "optical-visibility",
   "metadata": {},
   "source": [
    "# test normalization & feature selection"
   ]
  },
  {
   "cell_type": "code",
   "execution_count": 14,
   "id": "under-server",
   "metadata": {},
   "outputs": [],
   "source": [
    "for i in range(4):\n",
    "    test[i] = scaler[i].transform(test[i])\n",
    "    test[i] = pd.DataFrame(test[i], columns = col_name[2:])\n",
    "    test[i] = test[i][selected_col[1:]]"
   ]
  },
  {
   "cell_type": "code",
   "execution_count": 15,
   "id": "eleven-orbit",
   "metadata": {},
   "outputs": [],
   "source": [
    "test[0]['RUL'] = label_test[0]\n",
    "test[1]['RUL'] = label_test[1]\n",
    "test[2]['RUL'] = label_test[2]\n",
    "test[3]['RUL'] = label_test[3]"
   ]
  },
  {
   "cell_type": "markdown",
   "id": "white-tonight",
   "metadata": {},
   "source": [
    "# seperate train, val"
   ]
  },
  {
   "cell_type": "code",
   "execution_count": 16,
   "id": "completed-tuning",
   "metadata": {},
   "outputs": [],
   "source": [
    "train_ratio = 0.8\n",
    "train_indices = []\n",
    "validation_indices = []\n",
    "\n",
    "for i in range(4):\n",
    "    D = list(set(train_index[i]['unit number']))\n",
    "    N = len(D)\n",
    "    ratio = int(train_ratio * N)\n",
    "    indices = np.random.permutation(D)\n",
    "    train_idx, val_idx = indices[:ratio], indices[ratio:]\n",
    "    \n",
    "    train_indices.append(train_idx)\n",
    "    validation_indices.append(val_idx)"
   ]
  },
  {
   "cell_type": "code",
   "execution_count": 17,
   "id": "positive-nerve",
   "metadata": {},
   "outputs": [],
   "source": [
    "def rolling_window(a, window, axis=0):\n",
    "    \"\"\"\n",
    "         Return the array of the 2D array sliding window array\n",
    "    \"\"\"\n",
    "    if axis == 0:\n",
    "        shape = (a.shape[0] - window +1, window, a.shape[-1])\n",
    "        strides = (a.strides[0],) + a.strides\n",
    "        a_rolling = np.lib.stride_tricks.as_strided(a, shape=shape, strides=strides)\n",
    "    elif axis==1:\n",
    "        shape = (a.shape[-1] - window +1,) + (a.shape[0], window) \n",
    "        strides = (a.strides[-1],) + a.strides\n",
    "        a_rolling = np.lib.stride_tricks.as_strided(a, shape=shape, strides=strides)\n",
    "    return a_rolling"
   ]
  },
  {
   "cell_type": "code",
   "execution_count": 63,
   "id": "worth-miami",
   "metadata": {},
   "outputs": [],
   "source": [
    "window_len = 20\n",
    "X = []\n",
    "INDEX = []\n",
    "for key, values in enumerate(train_indices):\n",
    "    temp = []\n",
    "    for i in values:\n",
    "        index = train_index[key].groupby('unit number').get_group(i).index\n",
    "        INDEX.append(len(index))\n",
    "        D = minmax_train[key].loc[index]\n",
    "        win_gen = rolling_window(D.values, window_len)\n",
    "        temp.append(win_gen)\n",
    "\n",
    "    temp = np.concatenate(temp)\n",
    "    X.append(temp)"
   ]
  },
  {
   "cell_type": "code",
   "execution_count": 19,
   "id": "exotic-friendship",
   "metadata": {},
   "outputs": [],
   "source": [
    "window_len = 20\n",
    "X_val = []\n",
    "for key, values in enumerate(validation_indices):\n",
    "    temp = []\n",
    "    for i in values:\n",
    "        index = train_index[key].groupby('unit number').get_group(i).index\n",
    "        D = minmax_train[key].loc[index]\n",
    "        win_gen = rolling_window(D.values, window_len)\n",
    "        temp.append(win_gen)\n",
    "\n",
    "    temp = np.concatenate(temp)\n",
    "    X_val.append(temp)"
   ]
  },
  {
   "cell_type": "code",
   "execution_count": 20,
   "id": "obvious-morgan",
   "metadata": {},
   "outputs": [],
   "source": [
    "x_train = np.concatenate(X)[:,:,:-1].copy()\n",
    "y_train = np.concatenate(X)[:,-1,-1].copy()\n",
    "\n",
    "x_val = np.concatenate(X_val)[:,:,:-1].copy()\n",
    "y_val = np.concatenate(X_val)[:,-1,-1].copy()"
   ]
  },
  {
   "cell_type": "code",
   "execution_count": 84,
   "id": "charitable-peace",
   "metadata": {},
   "outputs": [],
   "source": [
    "window_len = 20\n",
    "X_test = []\n",
    "INDEX_test = []\n",
    "for key, values in enumerate(test):\n",
    "    temp = []\n",
    "    for i in range(unit_num_test[key]):\n",
    "        index = test_index[key].groupby('unit number').get_group(i+1).index\n",
    "        INDEX_test.append(len(index))\n",
    "        D = test[key].loc[index]\n",
    "        win_gen = rolling_window(D.values, window_len)\n",
    "        temp.append(win_gen)\n",
    "\n",
    "    temp = np.concatenate(temp)\n",
    "    X_test.append(temp)"
   ]
  },
  {
   "cell_type": "code",
   "execution_count": 22,
   "id": "lesser-specification",
   "metadata": {},
   "outputs": [],
   "source": [
    "x_test = np.concatenate(X_test)[:,:,:-1].copy()\n",
    "y_test = np.concatenate(X_test)[:,-1,-1].copy()"
   ]
  },
  {
   "cell_type": "code",
   "execution_count": 54,
   "id": "chronic-average",
   "metadata": {},
   "outputs": [],
   "source": [
    "def FEAE():\n",
    "    signal_inputs = Input(shape=(20,9), name = 'signal_inputs')\n",
    "    x = GRU(20, return_sequences=True)(signal_inputs)\n",
    "    x = LSTM(20, return_sequences=False)(x)\n",
    "    latent = Dense(10, name = 'latent')(x)\n",
    "    x = Dense(20)(latent)\n",
    "    x = RepeatVector(20)(x)\n",
    "    #x = TimeDistributed(20)(x0)\n",
    "    x = LSTM(9, return_sequences=True, name = 'signal_AE')(x)\n",
    "    \n",
    "    \n",
    "    rul_inputs = Dense(10, activation = 'relu')(latent)\n",
    "    h = Dense(5, activation = 'tanh')(rul_inputs)\n",
    "    h = Dense(1, activation = 'linear', name = 'RUL_OUTPUT')(h)\n",
    "    \n",
    "    \n",
    "    model = Model(signal_inputs, [x,h])\n",
    "    return model"
   ]
  },
  {
   "cell_type": "code",
   "execution_count": 55,
   "id": "renewable-prospect",
   "metadata": {},
   "outputs": [
    {
     "name": "stdout",
     "output_type": "stream",
     "text": [
      "Model: \"model_14\"\n",
      "__________________________________________________________________________________________________\n",
      "Layer (type)                    Output Shape         Param #     Connected to                     \n",
      "==================================================================================================\n",
      "signal_inputs (InputLayer)      [(None, 20, 9)]      0                                            \n",
      "__________________________________________________________________________________________________\n",
      "gru_16 (GRU)                    (None, 20, 20)       1860        signal_inputs[0][0]              \n",
      "__________________________________________________________________________________________________\n",
      "lstm_17 (LSTM)                  (None, 20)           3280        gru_16[0][0]                     \n",
      "__________________________________________________________________________________________________\n",
      "latent (Dense)                  (None, 10)           210         lstm_17[0][0]                    \n",
      "__________________________________________________________________________________________________\n",
      "dense_19 (Dense)                (None, 20)           220         latent[0][0]                     \n",
      "__________________________________________________________________________________________________\n",
      "dense_20 (Dense)                (None, 10)           110         latent[0][0]                     \n",
      "__________________________________________________________________________________________________\n",
      "repeat_vector_9 (RepeatVector)  (None, 20, 20)       0           dense_19[0][0]                   \n",
      "__________________________________________________________________________________________________\n",
      "dense_21 (Dense)                (None, 5)            55          dense_20[0][0]                   \n",
      "__________________________________________________________________________________________________\n",
      "signal_AE (LSTM)                (None, 20, 9)        1080        repeat_vector_9[0][0]            \n",
      "__________________________________________________________________________________________________\n",
      "RUL_OUTPUT (Dense)              (None, 1)            6           dense_21[0][0]                   \n",
      "==================================================================================================\n",
      "Total params: 6,821\n",
      "Trainable params: 6,821\n",
      "Non-trainable params: 0\n",
      "__________________________________________________________________________________________________\n"
     ]
    }
   ],
   "source": [
    "model = FEAE()\n",
    "model.summary()"
   ]
  },
  {
   "cell_type": "code",
   "execution_count": 56,
   "id": "prompt-blogger",
   "metadata": {},
   "outputs": [],
   "source": [
    "model.compile(optimizer = keras.optimizers.Adam(lr = 0.00001), loss = 'mse')"
   ]
  },
  {
   "cell_type": "code",
   "execution_count": 57,
   "id": "fatty-twins",
   "metadata": {
    "collapsed": true,
    "jupyter": {
     "outputs_hidden": true
    },
    "tags": []
   },
   "outputs": [
    {
     "name": "stdout",
     "output_type": "stream",
     "text": [
      "Epoch 1/2000\n",
      "458/458 [==============================] - 12s 17ms/step - loss: 0.5725 - signal_AE_loss: 0.3373 - RUL_OUTPUT_loss: 0.2352 - val_loss: 0.4398 - val_signal_AE_loss: 0.3225 - val_RUL_OUTPUT_loss: 0.1172\n",
      "Epoch 2/2000\n",
      "458/458 [==============================] - 7s 16ms/step - loss: 0.4189 - signal_AE_loss: 0.3185 - RUL_OUTPUT_loss: 0.1005 - val_loss: 0.3613 - val_signal_AE_loss: 0.2902 - val_RUL_OUTPUT_loss: 0.0711\n",
      "Epoch 3/2000\n",
      "458/458 [==============================] - 7s 16ms/step - loss: 0.3527 - signal_AE_loss: 0.2827 - RUL_OUTPUT_loss: 0.0700 - val_loss: 0.3161 - val_signal_AE_loss: 0.2493 - val_RUL_OUTPUT_loss: 0.0668\n",
      "Epoch 4/2000\n",
      "458/458 [==============================] - 7s 15ms/step - loss: 0.3091 - signal_AE_loss: 0.2415 - RUL_OUTPUT_loss: 0.0676 - val_loss: 0.2740 - val_signal_AE_loss: 0.2076 - val_RUL_OUTPUT_loss: 0.0663\n",
      "Epoch 5/2000\n",
      "458/458 [==============================] - 7s 15ms/step - loss: 0.2673 - signal_AE_loss: 0.2002 - RUL_OUTPUT_loss: 0.0671 - val_loss: 0.2362 - val_signal_AE_loss: 0.1700 - val_RUL_OUTPUT_loss: 0.0662\n",
      "Epoch 6/2000\n",
      "458/458 [==============================] - 8s 17ms/step - loss: 0.2307 - signal_AE_loss: 0.1643 - RUL_OUTPUT_loss: 0.0664 - val_loss: 0.2055 - val_signal_AE_loss: 0.1401 - val_RUL_OUTPUT_loss: 0.0654\n",
      "Epoch 7/2000\n",
      "458/458 [==============================] - 8s 17ms/step - loss: 0.2019 - signal_AE_loss: 0.1361 - RUL_OUTPUT_loss: 0.0658 - val_loss: 0.1815 - val_signal_AE_loss: 0.1170 - val_RUL_OUTPUT_loss: 0.0645\n",
      "Epoch 8/2000\n",
      "458/458 [==============================] - 8s 17ms/step - loss: 0.1793 - signal_AE_loss: 0.1145 - RUL_OUTPUT_loss: 0.0648 - val_loss: 0.1654 - val_signal_AE_loss: 0.1019 - val_RUL_OUTPUT_loss: 0.0636\n",
      "Epoch 9/2000\n",
      "458/458 [==============================] - 8s 17ms/step - loss: 0.1656 - signal_AE_loss: 0.1017 - RUL_OUTPUT_loss: 0.0639 - val_loss: 0.1576 - val_signal_AE_loss: 0.0951 - val_RUL_OUTPUT_loss: 0.0625\n",
      "Epoch 10/2000\n",
      "458/458 [==============================] - 7s 16ms/step - loss: 0.1590 - signal_AE_loss: 0.0962 - RUL_OUTPUT_loss: 0.0628 - val_loss: 0.1535 - val_signal_AE_loss: 0.0921 - val_RUL_OUTPUT_loss: 0.0613\n",
      "Epoch 11/2000\n",
      "458/458 [==============================] - 8s 18ms/step - loss: 0.1553 - signal_AE_loss: 0.0936 - RUL_OUTPUT_loss: 0.0618 - val_loss: 0.1508 - val_signal_AE_loss: 0.0904 - val_RUL_OUTPUT_loss: 0.0604\n",
      "Epoch 12/2000\n",
      "458/458 [==============================] - 8s 17ms/step - loss: 0.1525 - signal_AE_loss: 0.0918 - RUL_OUTPUT_loss: 0.0607 - val_loss: 0.1489 - val_signal_AE_loss: 0.0891 - val_RUL_OUTPUT_loss: 0.0598\n",
      "Epoch 13/2000\n",
      "458/458 [==============================] - 8s 18ms/step - loss: 0.1509 - signal_AE_loss: 0.0907 - RUL_OUTPUT_loss: 0.0602 - val_loss: 0.1474 - val_signal_AE_loss: 0.0880 - val_RUL_OUTPUT_loss: 0.0593\n",
      "Epoch 14/2000\n",
      "458/458 [==============================] - 8s 17ms/step - loss: 0.1498 - signal_AE_loss: 0.0897 - RUL_OUTPUT_loss: 0.0601 - val_loss: 0.1460 - val_signal_AE_loss: 0.0870 - val_RUL_OUTPUT_loss: 0.0590\n",
      "Epoch 15/2000\n",
      "458/458 [==============================] - 8s 18ms/step - loss: 0.1480 - signal_AE_loss: 0.0884 - RUL_OUTPUT_loss: 0.0595 - val_loss: 0.1447 - val_signal_AE_loss: 0.0860 - val_RUL_OUTPUT_loss: 0.0587\n",
      "Epoch 16/2000\n",
      "458/458 [==============================] - 9s 19ms/step - loss: 0.1465 - signal_AE_loss: 0.0875 - RUL_OUTPUT_loss: 0.0589 - val_loss: 0.1435 - val_signal_AE_loss: 0.0850 - val_RUL_OUTPUT_loss: 0.0585\n",
      "Epoch 17/2000\n",
      "458/458 [==============================] - 8s 16ms/step - loss: 0.1458 - signal_AE_loss: 0.0867 - RUL_OUTPUT_loss: 0.0591 - val_loss: 0.1423 - val_signal_AE_loss: 0.0841 - val_RUL_OUTPUT_loss: 0.0582\n",
      "Epoch 18/2000\n",
      "458/458 [==============================] - 9s 19ms/step - loss: 0.1445 - signal_AE_loss: 0.0857 - RUL_OUTPUT_loss: 0.0588 - val_loss: 0.1412 - val_signal_AE_loss: 0.0832 - val_RUL_OUTPUT_loss: 0.0580\n",
      "Epoch 19/2000\n",
      "458/458 [==============================] - 7s 16ms/step - loss: 0.1436 - signal_AE_loss: 0.0850 - RUL_OUTPUT_loss: 0.0586 - val_loss: 0.1401 - val_signal_AE_loss: 0.0824 - val_RUL_OUTPUT_loss: 0.0577\n",
      "Epoch 20/2000\n",
      "458/458 [==============================] - 8s 18ms/step - loss: 0.1421 - signal_AE_loss: 0.0840 - RUL_OUTPUT_loss: 0.0581 - val_loss: 0.1390 - val_signal_AE_loss: 0.0815 - val_RUL_OUTPUT_loss: 0.0575\n",
      "Epoch 21/2000\n",
      "458/458 [==============================] - 7s 16ms/step - loss: 0.1413 - signal_AE_loss: 0.0832 - RUL_OUTPUT_loss: 0.0580 - val_loss: 0.1379 - val_signal_AE_loss: 0.0807 - val_RUL_OUTPUT_loss: 0.0572\n",
      "Epoch 22/2000\n",
      "458/458 [==============================] - 8s 17ms/step - loss: 0.1398 - signal_AE_loss: 0.0824 - RUL_OUTPUT_loss: 0.0574 - val_loss: 0.1368 - val_signal_AE_loss: 0.0799 - val_RUL_OUTPUT_loss: 0.0569\n",
      "Epoch 23/2000\n",
      "458/458 [==============================] - 8s 17ms/step - loss: 0.1390 - signal_AE_loss: 0.0818 - RUL_OUTPUT_loss: 0.0572 - val_loss: 0.1358 - val_signal_AE_loss: 0.0792 - val_RUL_OUTPUT_loss: 0.0566\n",
      "Epoch 24/2000\n",
      "458/458 [==============================] - 8s 18ms/step - loss: 0.1383 - signal_AE_loss: 0.0809 - RUL_OUTPUT_loss: 0.0574 - val_loss: 0.1347 - val_signal_AE_loss: 0.0784 - val_RUL_OUTPUT_loss: 0.0562\n",
      "Epoch 25/2000\n",
      "458/458 [==============================] - 9s 19ms/step - loss: 0.1368 - signal_AE_loss: 0.0803 - RUL_OUTPUT_loss: 0.0565 - val_loss: 0.1336 - val_signal_AE_loss: 0.0777 - val_RUL_OUTPUT_loss: 0.0559\n",
      "Epoch 26/2000\n",
      "458/458 [==============================] - 8s 17ms/step - loss: 0.1358 - signal_AE_loss: 0.0796 - RUL_OUTPUT_loss: 0.0562 - val_loss: 0.1326 - val_signal_AE_loss: 0.0771 - val_RUL_OUTPUT_loss: 0.0555\n",
      "Epoch 27/2000\n",
      "458/458 [==============================] - 9s 19ms/step - loss: 0.1346 - signal_AE_loss: 0.0789 - RUL_OUTPUT_loss: 0.0556 - val_loss: 0.1315 - val_signal_AE_loss: 0.0765 - val_RUL_OUTPUT_loss: 0.0550\n",
      "Epoch 28/2000\n",
      "458/458 [==============================] - 7s 16ms/step - loss: 0.1343 - signal_AE_loss: 0.0787 - RUL_OUTPUT_loss: 0.0556 - val_loss: 0.1306 - val_signal_AE_loss: 0.0760 - val_RUL_OUTPUT_loss: 0.0546\n",
      "Epoch 29/2000\n",
      "458/458 [==============================] - 8s 17ms/step - loss: 0.1331 - signal_AE_loss: 0.0780 - RUL_OUTPUT_loss: 0.0551 - val_loss: 0.1297 - val_signal_AE_loss: 0.0756 - val_RUL_OUTPUT_loss: 0.0541\n",
      "Epoch 30/2000\n",
      "458/458 [==============================] - 8s 18ms/step - loss: 0.1319 - signal_AE_loss: 0.0775 - RUL_OUTPUT_loss: 0.0544 - val_loss: 0.1287 - val_signal_AE_loss: 0.0752 - val_RUL_OUTPUT_loss: 0.0535\n",
      "Epoch 31/2000\n",
      "458/458 [==============================] - 8s 18ms/step - loss: 0.1310 - signal_AE_loss: 0.0771 - RUL_OUTPUT_loss: 0.0540 - val_loss: 0.1278 - val_signal_AE_loss: 0.0748 - val_RUL_OUTPUT_loss: 0.0530\n",
      "Epoch 32/2000\n",
      "458/458 [==============================] - 8s 17ms/step - loss: 0.1301 - signal_AE_loss: 0.0767 - RUL_OUTPUT_loss: 0.0534 - val_loss: 0.1270 - val_signal_AE_loss: 0.0745 - val_RUL_OUTPUT_loss: 0.0525\n",
      "Epoch 33/2000\n",
      "458/458 [==============================] - 8s 17ms/step - loss: 0.1297 - signal_AE_loss: 0.0766 - RUL_OUTPUT_loss: 0.0531 - val_loss: 0.1261 - val_signal_AE_loss: 0.0742 - val_RUL_OUTPUT_loss: 0.0519\n",
      "Epoch 34/2000\n",
      "458/458 [==============================] - 8s 18ms/step - loss: 0.1285 - signal_AE_loss: 0.0763 - RUL_OUTPUT_loss: 0.0523 - val_loss: 0.1254 - val_signal_AE_loss: 0.0740 - val_RUL_OUTPUT_loss: 0.0514\n",
      "Epoch 35/2000\n",
      "458/458 [==============================] - 8s 18ms/step - loss: 0.1278 - signal_AE_loss: 0.0761 - RUL_OUTPUT_loss: 0.0517 - val_loss: 0.1247 - val_signal_AE_loss: 0.0738 - val_RUL_OUTPUT_loss: 0.0510\n",
      "Epoch 36/2000\n",
      "458/458 [==============================] - 8s 18ms/step - loss: 0.1270 - signal_AE_loss: 0.0759 - RUL_OUTPUT_loss: 0.0512 - val_loss: 0.1240 - val_signal_AE_loss: 0.0736 - val_RUL_OUTPUT_loss: 0.0504\n",
      "Epoch 37/2000\n",
      "458/458 [==============================] - 8s 18ms/step - loss: 0.1261 - signal_AE_loss: 0.0756 - RUL_OUTPUT_loss: 0.0505 - val_loss: 0.1234 - val_signal_AE_loss: 0.0734 - val_RUL_OUTPUT_loss: 0.0500\n",
      "Epoch 38/2000\n",
      "458/458 [==============================] - 7s 16ms/step - loss: 0.1252 - signal_AE_loss: 0.0753 - RUL_OUTPUT_loss: 0.0500 - val_loss: 0.1227 - val_signal_AE_loss: 0.0733 - val_RUL_OUTPUT_loss: 0.0495\n",
      "Epoch 39/2000\n",
      "458/458 [==============================] - 9s 19ms/step - loss: 0.1249 - signal_AE_loss: 0.0753 - RUL_OUTPUT_loss: 0.0495 - val_loss: 0.1220 - val_signal_AE_loss: 0.0731 - val_RUL_OUTPUT_loss: 0.0488\n",
      "Epoch 40/2000\n",
      "458/458 [==============================] - 8s 18ms/step - loss: 0.1245 - signal_AE_loss: 0.0752 - RUL_OUTPUT_loss: 0.0493 - val_loss: 0.1214 - val_signal_AE_loss: 0.0730 - val_RUL_OUTPUT_loss: 0.0484\n",
      "Epoch 41/2000\n",
      "458/458 [==============================] - 7s 15ms/step - loss: 0.1236 - signal_AE_loss: 0.0751 - RUL_OUTPUT_loss: 0.0486 - val_loss: 0.1207 - val_signal_AE_loss: 0.0729 - val_RUL_OUTPUT_loss: 0.0478\n",
      "Epoch 42/2000\n",
      "458/458 [==============================] - 8s 17ms/step - loss: 0.1226 - signal_AE_loss: 0.0749 - RUL_OUTPUT_loss: 0.0478 - val_loss: 0.1202 - val_signal_AE_loss: 0.0728 - val_RUL_OUTPUT_loss: 0.0474\n",
      "Epoch 43/2000\n",
      "458/458 [==============================] - 8s 18ms/step - loss: 0.1226 - signal_AE_loss: 0.0750 - RUL_OUTPUT_loss: 0.0476 - val_loss: 0.1196 - val_signal_AE_loss: 0.0727 - val_RUL_OUTPUT_loss: 0.0469\n",
      "Epoch 44/2000\n",
      "458/458 [==============================] - 8s 18ms/step - loss: 0.1216 - signal_AE_loss: 0.0749 - RUL_OUTPUT_loss: 0.0467 - val_loss: 0.1190 - val_signal_AE_loss: 0.0726 - val_RUL_OUTPUT_loss: 0.0464\n",
      "Epoch 45/2000\n",
      "458/458 [==============================] - 8s 18ms/step - loss: 0.1210 - signal_AE_loss: 0.0747 - RUL_OUTPUT_loss: 0.0463 - val_loss: 0.1184 - val_signal_AE_loss: 0.0725 - val_RUL_OUTPUT_loss: 0.0459\n",
      "Epoch 46/2000\n",
      "458/458 [==============================] - 8s 17ms/step - loss: 0.1206 - signal_AE_loss: 0.0747 - RUL_OUTPUT_loss: 0.0459 - val_loss: 0.1179 - val_signal_AE_loss: 0.0724 - val_RUL_OUTPUT_loss: 0.0455\n",
      "Epoch 47/2000\n",
      "458/458 [==============================] - 8s 17ms/step - loss: 0.1201 - signal_AE_loss: 0.0748 - RUL_OUTPUT_loss: 0.0453 - val_loss: 0.1174 - val_signal_AE_loss: 0.0724 - val_RUL_OUTPUT_loss: 0.0451\n",
      "Epoch 48/2000\n",
      "458/458 [==============================] - 7s 15ms/step - loss: 0.1194 - signal_AE_loss: 0.0745 - RUL_OUTPUT_loss: 0.0448 - val_loss: 0.1169 - val_signal_AE_loss: 0.0723 - val_RUL_OUTPUT_loss: 0.0446\n",
      "Epoch 49/2000\n",
      "458/458 [==============================] - 8s 18ms/step - loss: 0.1186 - signal_AE_loss: 0.0745 - RUL_OUTPUT_loss: 0.0442 - val_loss: 0.1165 - val_signal_AE_loss: 0.0723 - val_RUL_OUTPUT_loss: 0.0442\n",
      "Epoch 50/2000\n",
      "458/458 [==============================] - 7s 16ms/step - loss: 0.1182 - signal_AE_loss: 0.0745 - RUL_OUTPUT_loss: 0.0437 - val_loss: 0.1160 - val_signal_AE_loss: 0.0723 - val_RUL_OUTPUT_loss: 0.0437\n",
      "Epoch 51/2000\n",
      "458/458 [==============================] - 8s 18ms/step - loss: 0.1176 - signal_AE_loss: 0.0744 - RUL_OUTPUT_loss: 0.0432 - val_loss: 0.1155 - val_signal_AE_loss: 0.0722 - val_RUL_OUTPUT_loss: 0.0433\n",
      "Epoch 52/2000\n",
      "458/458 [==============================] - 8s 18ms/step - loss: 0.1168 - signal_AE_loss: 0.0743 - RUL_OUTPUT_loss: 0.0425 - val_loss: 0.1151 - val_signal_AE_loss: 0.0722 - val_RUL_OUTPUT_loss: 0.0429\n",
      "Epoch 53/2000\n",
      "458/458 [==============================] - 8s 17ms/step - loss: 0.1166 - signal_AE_loss: 0.0742 - RUL_OUTPUT_loss: 0.0424 - val_loss: 0.1147 - val_signal_AE_loss: 0.0722 - val_RUL_OUTPUT_loss: 0.0425\n",
      "Epoch 54/2000\n",
      "458/458 [==============================] - 8s 18ms/step - loss: 0.1163 - signal_AE_loss: 0.0744 - RUL_OUTPUT_loss: 0.0419 - val_loss: 0.1143 - val_signal_AE_loss: 0.0721 - val_RUL_OUTPUT_loss: 0.0422\n",
      "Epoch 55/2000\n",
      "458/458 [==============================] - 8s 18ms/step - loss: 0.1157 - signal_AE_loss: 0.0741 - RUL_OUTPUT_loss: 0.0416 - val_loss: 0.1141 - val_signal_AE_loss: 0.0721 - val_RUL_OUTPUT_loss: 0.0420\n",
      "Epoch 56/2000\n",
      "458/458 [==============================] - 8s 18ms/step - loss: 0.1157 - signal_AE_loss: 0.0741 - RUL_OUTPUT_loss: 0.0415 - val_loss: 0.1139 - val_signal_AE_loss: 0.0721 - val_RUL_OUTPUT_loss: 0.0418\n",
      "Epoch 57/2000\n",
      "458/458 [==============================] - 9s 19ms/step - loss: 0.1154 - signal_AE_loss: 0.0742 - RUL_OUTPUT_loss: 0.0413 - val_loss: 0.1136 - val_signal_AE_loss: 0.0720 - val_RUL_OUTPUT_loss: 0.0416\n",
      "Epoch 58/2000\n",
      "458/458 [==============================] - 8s 17ms/step - loss: 0.1148 - signal_AE_loss: 0.0739 - RUL_OUTPUT_loss: 0.0409 - val_loss: 0.1135 - val_signal_AE_loss: 0.0720 - val_RUL_OUTPUT_loss: 0.0415\n",
      "Epoch 59/2000\n",
      "458/458 [==============================] - 8s 18ms/step - loss: 0.1144 - signal_AE_loss: 0.0741 - RUL_OUTPUT_loss: 0.0404 - val_loss: 0.1132 - val_signal_AE_loss: 0.0720 - val_RUL_OUTPUT_loss: 0.0413\n",
      "Epoch 60/2000\n",
      "458/458 [==============================] - 9s 19ms/step - loss: 0.1147 - signal_AE_loss: 0.0741 - RUL_OUTPUT_loss: 0.0405 - val_loss: 0.1131 - val_signal_AE_loss: 0.0719 - val_RUL_OUTPUT_loss: 0.0412\n",
      "Epoch 61/2000\n",
      "458/458 [==============================] - 8s 18ms/step - loss: 0.1141 - signal_AE_loss: 0.0739 - RUL_OUTPUT_loss: 0.0402 - val_loss: 0.1129 - val_signal_AE_loss: 0.0719 - val_RUL_OUTPUT_loss: 0.0410\n",
      "Epoch 62/2000\n",
      "458/458 [==============================] - 8s 17ms/step - loss: 0.1140 - signal_AE_loss: 0.0738 - RUL_OUTPUT_loss: 0.0402 - val_loss: 0.1127 - val_signal_AE_loss: 0.0718 - val_RUL_OUTPUT_loss: 0.0409\n",
      "Epoch 63/2000\n",
      "458/458 [==============================] - 8s 18ms/step - loss: 0.1141 - signal_AE_loss: 0.0739 - RUL_OUTPUT_loss: 0.0402 - val_loss: 0.1125 - val_signal_AE_loss: 0.0718 - val_RUL_OUTPUT_loss: 0.0407\n",
      "Epoch 64/2000\n",
      "458/458 [==============================] - 8s 17ms/step - loss: 0.1134 - signal_AE_loss: 0.0739 - RUL_OUTPUT_loss: 0.0395 - val_loss: 0.1123 - val_signal_AE_loss: 0.0718 - val_RUL_OUTPUT_loss: 0.0405\n",
      "Epoch 65/2000\n",
      "458/458 [==============================] - 8s 19ms/step - loss: 0.1137 - signal_AE_loss: 0.0739 - RUL_OUTPUT_loss: 0.0398 - val_loss: 0.1121 - val_signal_AE_loss: 0.0717 - val_RUL_OUTPUT_loss: 0.0404\n",
      "Epoch 66/2000\n",
      "458/458 [==============================] - 9s 19ms/step - loss: 0.1131 - signal_AE_loss: 0.0738 - RUL_OUTPUT_loss: 0.0394 - val_loss: 0.1121 - val_signal_AE_loss: 0.0717 - val_RUL_OUTPUT_loss: 0.0403\n",
      "Epoch 67/2000\n",
      "458/458 [==============================] - 9s 19ms/step - loss: 0.1131 - signal_AE_loss: 0.0737 - RUL_OUTPUT_loss: 0.0393 - val_loss: 0.1119 - val_signal_AE_loss: 0.0717 - val_RUL_OUTPUT_loss: 0.0402\n",
      "Epoch 68/2000\n",
      "458/458 [==============================] - 8s 17ms/step - loss: 0.1129 - signal_AE_loss: 0.0738 - RUL_OUTPUT_loss: 0.0390 - val_loss: 0.1119 - val_signal_AE_loss: 0.0717 - val_RUL_OUTPUT_loss: 0.0403\n",
      "Epoch 69/2000\n",
      "458/458 [==============================] - 8s 17ms/step - loss: 0.1128 - signal_AE_loss: 0.0735 - RUL_OUTPUT_loss: 0.0393 - val_loss: 0.1117 - val_signal_AE_loss: 0.0716 - val_RUL_OUTPUT_loss: 0.0401\n",
      "Epoch 70/2000\n",
      "458/458 [==============================] - 8s 17ms/step - loss: 0.1127 - signal_AE_loss: 0.0737 - RUL_OUTPUT_loss: 0.0390 - val_loss: 0.1115 - val_signal_AE_loss: 0.0716 - val_RUL_OUTPUT_loss: 0.0399\n",
      "Epoch 71/2000\n",
      "458/458 [==============================] - 9s 19ms/step - loss: 0.1125 - signal_AE_loss: 0.0738 - RUL_OUTPUT_loss: 0.0388 - val_loss: 0.1113 - val_signal_AE_loss: 0.0716 - val_RUL_OUTPUT_loss: 0.0397\n",
      "Epoch 72/2000\n",
      "458/458 [==============================] - 9s 19ms/step - loss: 0.1125 - signal_AE_loss: 0.0738 - RUL_OUTPUT_loss: 0.0386 - val_loss: 0.1112 - val_signal_AE_loss: 0.0715 - val_RUL_OUTPUT_loss: 0.0396\n",
      "Epoch 73/2000\n",
      "458/458 [==============================] - 8s 17ms/step - loss: 0.1123 - signal_AE_loss: 0.0737 - RUL_OUTPUT_loss: 0.0386 - val_loss: 0.1114 - val_signal_AE_loss: 0.0715 - val_RUL_OUTPUT_loss: 0.0399\n",
      "Epoch 74/2000\n",
      "458/458 [==============================] - 8s 17ms/step - loss: 0.1123 - signal_AE_loss: 0.0736 - RUL_OUTPUT_loss: 0.0387 - val_loss: 0.1111 - val_signal_AE_loss: 0.0715 - val_RUL_OUTPUT_loss: 0.0396\n",
      "Epoch 75/2000\n",
      "458/458 [==============================] - 8s 18ms/step - loss: 0.1121 - signal_AE_loss: 0.0737 - RUL_OUTPUT_loss: 0.0384 - val_loss: 0.1109 - val_signal_AE_loss: 0.0715 - val_RUL_OUTPUT_loss: 0.0394\n",
      "Epoch 76/2000\n",
      "458/458 [==============================] - 8s 17ms/step - loss: 0.1120 - signal_AE_loss: 0.0737 - RUL_OUTPUT_loss: 0.0382 - val_loss: 0.1107 - val_signal_AE_loss: 0.0715 - val_RUL_OUTPUT_loss: 0.0393\n",
      "Epoch 77/2000\n",
      "458/458 [==============================] - 8s 18ms/step - loss: 0.1120 - signal_AE_loss: 0.0738 - RUL_OUTPUT_loss: 0.0382 - val_loss: 0.1108 - val_signal_AE_loss: 0.0714 - val_RUL_OUTPUT_loss: 0.0394\n",
      "Epoch 78/2000\n",
      "458/458 [==============================] - 9s 19ms/step - loss: 0.1113 - signal_AE_loss: 0.0733 - RUL_OUTPUT_loss: 0.0380 - val_loss: 0.1106 - val_signal_AE_loss: 0.0714 - val_RUL_OUTPUT_loss: 0.0392\n",
      "Epoch 79/2000\n",
      "458/458 [==============================] - 8s 18ms/step - loss: 0.1115 - signal_AE_loss: 0.0736 - RUL_OUTPUT_loss: 0.0380 - val_loss: 0.1106 - val_signal_AE_loss: 0.0714 - val_RUL_OUTPUT_loss: 0.0392\n",
      "Epoch 80/2000\n",
      "458/458 [==============================] - 8s 17ms/step - loss: 0.1111 - signal_AE_loss: 0.0735 - RUL_OUTPUT_loss: 0.0376 - val_loss: 0.1104 - val_signal_AE_loss: 0.0714 - val_RUL_OUTPUT_loss: 0.0390\n",
      "Epoch 81/2000\n",
      "458/458 [==============================] - 10s 22ms/step - loss: 0.1112 - signal_AE_loss: 0.0734 - RUL_OUTPUT_loss: 0.0378 - val_loss: 0.1103 - val_signal_AE_loss: 0.0714 - val_RUL_OUTPUT_loss: 0.0390\n",
      "Epoch 82/2000\n",
      "458/458 [==============================] - 8s 17ms/step - loss: 0.1112 - signal_AE_loss: 0.0736 - RUL_OUTPUT_loss: 0.0376 - val_loss: 0.1103 - val_signal_AE_loss: 0.0714 - val_RUL_OUTPUT_loss: 0.0389\n",
      "Epoch 83/2000\n",
      "458/458 [==============================] - 9s 19ms/step - loss: 0.1107 - signal_AE_loss: 0.0734 - RUL_OUTPUT_loss: 0.0373 - val_loss: 0.1102 - val_signal_AE_loss: 0.0713 - val_RUL_OUTPUT_loss: 0.0388\n",
      "Epoch 84/2000\n",
      "458/458 [==============================] - 8s 18ms/step - loss: 0.1110 - signal_AE_loss: 0.0736 - RUL_OUTPUT_loss: 0.0374 - val_loss: 0.1101 - val_signal_AE_loss: 0.0713 - val_RUL_OUTPUT_loss: 0.0387\n",
      "Epoch 85/2000\n",
      "458/458 [==============================] - 8s 17ms/step - loss: 0.1106 - signal_AE_loss: 0.0734 - RUL_OUTPUT_loss: 0.0372 - val_loss: 0.1098 - val_signal_AE_loss: 0.0713 - val_RUL_OUTPUT_loss: 0.0385\n",
      "Epoch 86/2000\n",
      "458/458 [==============================] - 8s 17ms/step - loss: 0.1106 - signal_AE_loss: 0.0734 - RUL_OUTPUT_loss: 0.0372 - val_loss: 0.1101 - val_signal_AE_loss: 0.0713 - val_RUL_OUTPUT_loss: 0.0388\n",
      "Epoch 87/2000\n",
      "458/458 [==============================] - 8s 18ms/step - loss: 0.1107 - signal_AE_loss: 0.0735 - RUL_OUTPUT_loss: 0.0372 - val_loss: 0.1098 - val_signal_AE_loss: 0.0713 - val_RUL_OUTPUT_loss: 0.0385\n",
      "Epoch 88/2000\n",
      "458/458 [==============================] - 8s 18ms/step - loss: 0.1105 - signal_AE_loss: 0.0735 - RUL_OUTPUT_loss: 0.0371 - val_loss: 0.1099 - val_signal_AE_loss: 0.0713 - val_RUL_OUTPUT_loss: 0.0386\n",
      "Epoch 89/2000\n",
      "458/458 [==============================] - 8s 18ms/step - loss: 0.1103 - signal_AE_loss: 0.0733 - RUL_OUTPUT_loss: 0.0369 - val_loss: 0.1096 - val_signal_AE_loss: 0.0713 - val_RUL_OUTPUT_loss: 0.0383\n",
      "Epoch 90/2000\n",
      "458/458 [==============================] - 8s 18ms/step - loss: 0.1104 - signal_AE_loss: 0.0736 - RUL_OUTPUT_loss: 0.0368 - val_loss: 0.1094 - val_signal_AE_loss: 0.0713 - val_RUL_OUTPUT_loss: 0.0382\n",
      "Epoch 91/2000\n",
      "458/458 [==============================] - 9s 20ms/step - loss: 0.1104 - signal_AE_loss: 0.0736 - RUL_OUTPUT_loss: 0.0368 - val_loss: 0.1096 - val_signal_AE_loss: 0.0712 - val_RUL_OUTPUT_loss: 0.0383\n",
      "Epoch 92/2000\n",
      "458/458 [==============================] - 16s 35ms/step - loss: 0.1101 - signal_AE_loss: 0.0735 - RUL_OUTPUT_loss: 0.0367 - val_loss: 0.1094 - val_signal_AE_loss: 0.0712 - val_RUL_OUTPUT_loss: 0.0382\n",
      "Epoch 93/2000\n",
      "458/458 [==============================] - 16s 34ms/step - loss: 0.1100 - signal_AE_loss: 0.0733 - RUL_OUTPUT_loss: 0.0366 - val_loss: 0.1094 - val_signal_AE_loss: 0.0712 - val_RUL_OUTPUT_loss: 0.0382\n",
      "Epoch 94/2000\n",
      "458/458 [==============================] - 15s 33ms/step - loss: 0.1097 - signal_AE_loss: 0.0731 - RUL_OUTPUT_loss: 0.0365 - val_loss: 0.1093 - val_signal_AE_loss: 0.0712 - val_RUL_OUTPUT_loss: 0.0381\n",
      "Epoch 95/2000\n",
      "458/458 [==============================] - 11s 25ms/step - loss: 0.1098 - signal_AE_loss: 0.0734 - RUL_OUTPUT_loss: 0.0364 - val_loss: 0.1092 - val_signal_AE_loss: 0.0712 - val_RUL_OUTPUT_loss: 0.0380\n",
      "Epoch 96/2000\n",
      "458/458 [==============================] - 13s 28ms/step - loss: 0.1096 - signal_AE_loss: 0.0734 - RUL_OUTPUT_loss: 0.0362 - val_loss: 0.1091 - val_signal_AE_loss: 0.0712 - val_RUL_OUTPUT_loss: 0.0379\n",
      "Epoch 97/2000\n",
      "458/458 [==============================] - 16s 34ms/step - loss: 0.1093 - signal_AE_loss: 0.0733 - RUL_OUTPUT_loss: 0.0360 - val_loss: 0.1090 - val_signal_AE_loss: 0.0712 - val_RUL_OUTPUT_loss: 0.0378\n",
      "Epoch 98/2000\n",
      "458/458 [==============================] - 12s 27ms/step - loss: 0.1093 - signal_AE_loss: 0.0734 - RUL_OUTPUT_loss: 0.0359 - val_loss: 0.1090 - val_signal_AE_loss: 0.0712 - val_RUL_OUTPUT_loss: 0.0378\n",
      "Epoch 99/2000\n",
      "458/458 [==============================] - 18s 39ms/step - loss: 0.1091 - signal_AE_loss: 0.0732 - RUL_OUTPUT_loss: 0.0359 - val_loss: 0.1088 - val_signal_AE_loss: 0.0712 - val_RUL_OUTPUT_loss: 0.0377\n",
      "Epoch 100/2000\n",
      "458/458 [==============================] - 15s 32ms/step - loss: 0.1093 - signal_AE_loss: 0.0732 - RUL_OUTPUT_loss: 0.0361 - val_loss: 0.1087 - val_signal_AE_loss: 0.0712 - val_RUL_OUTPUT_loss: 0.0376\n",
      "Epoch 101/2000\n",
      "458/458 [==============================] - 11s 24ms/step - loss: 0.1090 - signal_AE_loss: 0.0733 - RUL_OUTPUT_loss: 0.0358 - val_loss: 0.1088 - val_signal_AE_loss: 0.0712 - val_RUL_OUTPUT_loss: 0.0376\n",
      "Epoch 102/2000\n",
      "458/458 [==============================] - 13s 29ms/step - loss: 0.1092 - signal_AE_loss: 0.0732 - RUL_OUTPUT_loss: 0.0360 - val_loss: 0.1087 - val_signal_AE_loss: 0.0712 - val_RUL_OUTPUT_loss: 0.0375\n",
      "Epoch 103/2000\n",
      "458/458 [==============================] - 12s 27ms/step - loss: 0.1091 - signal_AE_loss: 0.0734 - RUL_OUTPUT_loss: 0.0357 - val_loss: 0.1086 - val_signal_AE_loss: 0.0711 - val_RUL_OUTPUT_loss: 0.0375\n",
      "Epoch 104/2000\n",
      "458/458 [==============================] - 16s 34ms/step - loss: 0.1091 - signal_AE_loss: 0.0734 - RUL_OUTPUT_loss: 0.0357 - val_loss: 0.1085 - val_signal_AE_loss: 0.0711 - val_RUL_OUTPUT_loss: 0.0374\n",
      "Epoch 105/2000\n",
      "458/458 [==============================] - 11s 25ms/step - loss: 0.1084 - signal_AE_loss: 0.0731 - RUL_OUTPUT_loss: 0.0352 - val_loss: 0.1085 - val_signal_AE_loss: 0.0711 - val_RUL_OUTPUT_loss: 0.0374\n",
      "Epoch 106/2000\n",
      "458/458 [==============================] - 14s 31ms/step - loss: 0.1089 - signal_AE_loss: 0.0733 - RUL_OUTPUT_loss: 0.0356 - val_loss: 0.1084 - val_signal_AE_loss: 0.0711 - val_RUL_OUTPUT_loss: 0.0373\n",
      "Epoch 107/2000\n",
      "458/458 [==============================] - 14s 30ms/step - loss: 0.1086 - signal_AE_loss: 0.0732 - RUL_OUTPUT_loss: 0.0354 - val_loss: 0.1083 - val_signal_AE_loss: 0.0711 - val_RUL_OUTPUT_loss: 0.0372\n",
      "Epoch 108/2000\n",
      "458/458 [==============================] - 13s 28ms/step - loss: 0.1082 - signal_AE_loss: 0.0730 - RUL_OUTPUT_loss: 0.0351 - val_loss: 0.1083 - val_signal_AE_loss: 0.0711 - val_RUL_OUTPUT_loss: 0.0372\n",
      "Epoch 109/2000\n",
      "458/458 [==============================] - 16s 34ms/step - loss: 0.1085 - signal_AE_loss: 0.0732 - RUL_OUTPUT_loss: 0.0353 - val_loss: 0.1082 - val_signal_AE_loss: 0.0711 - val_RUL_OUTPUT_loss: 0.0371\n",
      "Epoch 110/2000\n",
      "458/458 [==============================] - 12s 26ms/step - loss: 0.1077 - signal_AE_loss: 0.0730 - RUL_OUTPUT_loss: 0.0347 - val_loss: 0.1081 - val_signal_AE_loss: 0.0711 - val_RUL_OUTPUT_loss: 0.0370\n",
      "Epoch 111/2000\n",
      "458/458 [==============================] - 11s 23ms/step - loss: 0.1085 - signal_AE_loss: 0.0732 - RUL_OUTPUT_loss: 0.0352 - val_loss: 0.1079 - val_signal_AE_loss: 0.0711 - val_RUL_OUTPUT_loss: 0.0369\n",
      "Epoch 112/2000\n",
      "458/458 [==============================] - 13s 28ms/step - loss: 0.1082 - signal_AE_loss: 0.0732 - RUL_OUTPUT_loss: 0.0350 - val_loss: 0.1081 - val_signal_AE_loss: 0.0711 - val_RUL_OUTPUT_loss: 0.0370\n",
      "Epoch 113/2000\n",
      "458/458 [==============================] - 14s 30ms/step - loss: 0.1078 - signal_AE_loss: 0.0731 - RUL_OUTPUT_loss: 0.0347 - val_loss: 0.1079 - val_signal_AE_loss: 0.0711 - val_RUL_OUTPUT_loss: 0.0368\n",
      "Epoch 114/2000\n",
      "458/458 [==============================] - 18s 39ms/step - loss: 0.1080 - signal_AE_loss: 0.0732 - RUL_OUTPUT_loss: 0.0348 - val_loss: 0.1078 - val_signal_AE_loss: 0.0711 - val_RUL_OUTPUT_loss: 0.0368\n",
      "Epoch 115/2000\n",
      "458/458 [==============================] - 12s 27ms/step - loss: 0.1081 - signal_AE_loss: 0.0734 - RUL_OUTPUT_loss: 0.0347 - val_loss: 0.1079 - val_signal_AE_loss: 0.0711 - val_RUL_OUTPUT_loss: 0.0368\n",
      "Epoch 116/2000\n",
      "458/458 [==============================] - 12s 27ms/step - loss: 0.1081 - signal_AE_loss: 0.0732 - RUL_OUTPUT_loss: 0.0349 - val_loss: 0.1076 - val_signal_AE_loss: 0.0711 - val_RUL_OUTPUT_loss: 0.0366\n",
      "Epoch 117/2000\n",
      "458/458 [==============================] - 18s 40ms/step - loss: 0.1078 - signal_AE_loss: 0.0732 - RUL_OUTPUT_loss: 0.0345 - val_loss: 0.1076 - val_signal_AE_loss: 0.0710 - val_RUL_OUTPUT_loss: 0.0366\n",
      "Epoch 118/2000\n",
      "458/458 [==============================] - 15s 32ms/step - loss: 0.1077 - signal_AE_loss: 0.0732 - RUL_OUTPUT_loss: 0.0345 - val_loss: 0.1076 - val_signal_AE_loss: 0.0710 - val_RUL_OUTPUT_loss: 0.0365\n",
      "Epoch 119/2000\n",
      "458/458 [==============================] - 12s 26ms/step - loss: 0.1077 - signal_AE_loss: 0.0733 - RUL_OUTPUT_loss: 0.0344 - val_loss: 0.1075 - val_signal_AE_loss: 0.0710 - val_RUL_OUTPUT_loss: 0.0365\n",
      "Epoch 120/2000\n",
      "458/458 [==============================] - 14s 31ms/step - loss: 0.1079 - signal_AE_loss: 0.0733 - RUL_OUTPUT_loss: 0.0345 - val_loss: 0.1075 - val_signal_AE_loss: 0.0710 - val_RUL_OUTPUT_loss: 0.0365\n",
      "Epoch 121/2000\n",
      "458/458 [==============================] - 14s 30ms/step - loss: 0.1076 - signal_AE_loss: 0.0733 - RUL_OUTPUT_loss: 0.0343 - val_loss: 0.1074 - val_signal_AE_loss: 0.0710 - val_RUL_OUTPUT_loss: 0.0363\n",
      "Epoch 122/2000\n",
      "458/458 [==============================] - 13s 28ms/step - loss: 0.1077 - signal_AE_loss: 0.0733 - RUL_OUTPUT_loss: 0.0343 - val_loss: 0.1074 - val_signal_AE_loss: 0.0710 - val_RUL_OUTPUT_loss: 0.0363\n",
      "Epoch 123/2000\n",
      "458/458 [==============================] - 15s 32ms/step - loss: 0.1071 - signal_AE_loss: 0.0732 - RUL_OUTPUT_loss: 0.0340 - val_loss: 0.1074 - val_signal_AE_loss: 0.0710 - val_RUL_OUTPUT_loss: 0.0363\n",
      "Epoch 124/2000\n",
      "458/458 [==============================] - 19s 41ms/step - loss: 0.1076 - signal_AE_loss: 0.0732 - RUL_OUTPUT_loss: 0.0345 - val_loss: 0.1072 - val_signal_AE_loss: 0.0710 - val_RUL_OUTPUT_loss: 0.0362\n",
      "Epoch 125/2000\n",
      "458/458 [==============================] - 18s 39ms/step - loss: 0.1075 - signal_AE_loss: 0.0733 - RUL_OUTPUT_loss: 0.0342 - val_loss: 0.1072 - val_signal_AE_loss: 0.0710 - val_RUL_OUTPUT_loss: 0.0362\n",
      "Epoch 126/2000\n",
      "458/458 [==============================] - 13s 29ms/step - loss: 0.1071 - signal_AE_loss: 0.0731 - RUL_OUTPUT_loss: 0.0339 - val_loss: 0.1076 - val_signal_AE_loss: 0.0710 - val_RUL_OUTPUT_loss: 0.0366\n",
      "Epoch 127/2000\n",
      "458/458 [==============================] - 13s 29ms/step - loss: 0.1068 - signal_AE_loss: 0.0729 - RUL_OUTPUT_loss: 0.0339 - val_loss: 0.1070 - val_signal_AE_loss: 0.0710 - val_RUL_OUTPUT_loss: 0.0360\n",
      "Epoch 128/2000\n",
      "458/458 [==============================] - 19s 42ms/step - loss: 0.1071 - signal_AE_loss: 0.0733 - RUL_OUTPUT_loss: 0.0338 - val_loss: 0.1072 - val_signal_AE_loss: 0.0710 - val_RUL_OUTPUT_loss: 0.0362\n",
      "Epoch 129/2000\n",
      "458/458 [==============================] - 12s 25ms/step - loss: 0.1069 - signal_AE_loss: 0.0730 - RUL_OUTPUT_loss: 0.0338 - val_loss: 0.1069 - val_signal_AE_loss: 0.0710 - val_RUL_OUTPUT_loss: 0.0359\n",
      "Epoch 130/2000\n",
      "458/458 [==============================] - 13s 28ms/step - loss: 0.1068 - signal_AE_loss: 0.0733 - RUL_OUTPUT_loss: 0.0335 - val_loss: 0.1069 - val_signal_AE_loss: 0.0710 - val_RUL_OUTPUT_loss: 0.0359\n",
      "Epoch 131/2000\n",
      "458/458 [==============================] - 13s 29ms/step - loss: 0.1066 - signal_AE_loss: 0.0731 - RUL_OUTPUT_loss: 0.0336 - val_loss: 0.1068 - val_signal_AE_loss: 0.0710 - val_RUL_OUTPUT_loss: 0.0359\n",
      "Epoch 132/2000\n",
      "458/458 [==============================] - 15s 34ms/step - loss: 0.1065 - signal_AE_loss: 0.0731 - RUL_OUTPUT_loss: 0.0335 - val_loss: 0.1068 - val_signal_AE_loss: 0.0710 - val_RUL_OUTPUT_loss: 0.0358\n",
      "Epoch 133/2000\n",
      "458/458 [==============================] - 15s 32ms/step - loss: 0.1067 - signal_AE_loss: 0.0732 - RUL_OUTPUT_loss: 0.0335 - val_loss: 0.1068 - val_signal_AE_loss: 0.0710 - val_RUL_OUTPUT_loss: 0.0359\n",
      "Epoch 134/2000\n",
      "458/458 [==============================] - 12s 25ms/step - loss: 0.1069 - signal_AE_loss: 0.0733 - RUL_OUTPUT_loss: 0.0336 - val_loss: 0.1070 - val_signal_AE_loss: 0.0710 - val_RUL_OUTPUT_loss: 0.0360\n",
      "Epoch 135/2000\n",
      "458/458 [==============================] - 12s 27ms/step - loss: 0.1066 - signal_AE_loss: 0.0731 - RUL_OUTPUT_loss: 0.0335 - val_loss: 0.1066 - val_signal_AE_loss: 0.0709 - val_RUL_OUTPUT_loss: 0.0357\n",
      "Epoch 136/2000\n",
      "458/458 [==============================] - 12s 26ms/step - loss: 0.1064 - signal_AE_loss: 0.0731 - RUL_OUTPUT_loss: 0.0333 - val_loss: 0.1069 - val_signal_AE_loss: 0.0709 - val_RUL_OUTPUT_loss: 0.0360\n",
      "Epoch 137/2000\n",
      "458/458 [==============================] - 11s 25ms/step - loss: 0.1065 - signal_AE_loss: 0.0731 - RUL_OUTPUT_loss: 0.0334 - val_loss: 0.1065 - val_signal_AE_loss: 0.0709 - val_RUL_OUTPUT_loss: 0.0355\n",
      "Epoch 138/2000\n",
      "458/458 [==============================] - 11s 25ms/step - loss: 0.1066 - signal_AE_loss: 0.0732 - RUL_OUTPUT_loss: 0.0334 - val_loss: 0.1066 - val_signal_AE_loss: 0.0709 - val_RUL_OUTPUT_loss: 0.0357\n",
      "Epoch 139/2000\n",
      "458/458 [==============================] - 13s 28ms/step - loss: 0.1064 - signal_AE_loss: 0.0731 - RUL_OUTPUT_loss: 0.0333 - val_loss: 0.1065 - val_signal_AE_loss: 0.0709 - val_RUL_OUTPUT_loss: 0.0356\n",
      "Epoch 140/2000\n",
      "458/458 [==============================] - 12s 26ms/step - loss: 0.1065 - signal_AE_loss: 0.0731 - RUL_OUTPUT_loss: 0.0335 - val_loss: 0.1063 - val_signal_AE_loss: 0.0709 - val_RUL_OUTPUT_loss: 0.0354\n",
      "Epoch 141/2000\n",
      "458/458 [==============================] - 12s 27ms/step - loss: 0.1065 - signal_AE_loss: 0.0731 - RUL_OUTPUT_loss: 0.0334 - val_loss: 0.1069 - val_signal_AE_loss: 0.0709 - val_RUL_OUTPUT_loss: 0.0360\n",
      "Epoch 142/2000\n",
      "458/458 [==============================] - 17s 38ms/step - loss: 0.1063 - signal_AE_loss: 0.0731 - RUL_OUTPUT_loss: 0.0332 - val_loss: 0.1064 - val_signal_AE_loss: 0.0709 - val_RUL_OUTPUT_loss: 0.0355\n",
      "Epoch 143/2000\n",
      "458/458 [==============================] - 18s 38ms/step - loss: 0.1065 - signal_AE_loss: 0.0732 - RUL_OUTPUT_loss: 0.0333 - val_loss: 0.1062 - val_signal_AE_loss: 0.0709 - val_RUL_OUTPUT_loss: 0.0353\n",
      "Epoch 144/2000\n",
      "458/458 [==============================] - 14s 31ms/step - loss: 0.1061 - signal_AE_loss: 0.0730 - RUL_OUTPUT_loss: 0.0331 - val_loss: 0.1062 - val_signal_AE_loss: 0.0709 - val_RUL_OUTPUT_loss: 0.0353\n",
      "Epoch 145/2000\n",
      "458/458 [==============================] - 16s 34ms/step - loss: 0.1061 - signal_AE_loss: 0.0731 - RUL_OUTPUT_loss: 0.0330 - val_loss: 0.1062 - val_signal_AE_loss: 0.0709 - val_RUL_OUTPUT_loss: 0.0353\n",
      "Epoch 146/2000\n",
      "458/458 [==============================] - 18s 40ms/step - loss: 0.1063 - signal_AE_loss: 0.0731 - RUL_OUTPUT_loss: 0.0333 - val_loss: 0.1064 - val_signal_AE_loss: 0.0709 - val_RUL_OUTPUT_loss: 0.0355\n",
      "Epoch 147/2000\n",
      "458/458 [==============================] - 15s 33ms/step - loss: 0.1061 - signal_AE_loss: 0.0731 - RUL_OUTPUT_loss: 0.0330 - val_loss: 0.1062 - val_signal_AE_loss: 0.0709 - val_RUL_OUTPUT_loss: 0.0353\n",
      "Epoch 148/2000\n",
      "458/458 [==============================] - 18s 40ms/step - loss: 0.1060 - signal_AE_loss: 0.0731 - RUL_OUTPUT_loss: 0.0329 - val_loss: 0.1059 - val_signal_AE_loss: 0.0709 - val_RUL_OUTPUT_loss: 0.0350\n",
      "Epoch 149/2000\n",
      "458/458 [==============================] - 12s 25ms/step - loss: 0.1060 - signal_AE_loss: 0.0731 - RUL_OUTPUT_loss: 0.0329 - val_loss: 0.1061 - val_signal_AE_loss: 0.0709 - val_RUL_OUTPUT_loss: 0.0352\n",
      "Epoch 150/2000\n",
      "458/458 [==============================] - 21s 46ms/step - loss: 0.1059 - signal_AE_loss: 0.0731 - RUL_OUTPUT_loss: 0.0329 - val_loss: 0.1060 - val_signal_AE_loss: 0.0709 - val_RUL_OUTPUT_loss: 0.0351\n",
      "Epoch 151/2000\n",
      "458/458 [==============================] - 17s 36ms/step - loss: 0.1056 - signal_AE_loss: 0.0730 - RUL_OUTPUT_loss: 0.0326 - val_loss: 0.1057 - val_signal_AE_loss: 0.0709 - val_RUL_OUTPUT_loss: 0.0349\n",
      "Epoch 152/2000\n",
      "458/458 [==============================] - 17s 36ms/step - loss: 0.1055 - signal_AE_loss: 0.0729 - RUL_OUTPUT_loss: 0.0326 - val_loss: 0.1058 - val_signal_AE_loss: 0.0709 - val_RUL_OUTPUT_loss: 0.0349\n",
      "Epoch 153/2000\n",
      "458/458 [==============================] - 11s 25ms/step - loss: 0.1057 - signal_AE_loss: 0.0729 - RUL_OUTPUT_loss: 0.0328 - val_loss: 0.1059 - val_signal_AE_loss: 0.0709 - val_RUL_OUTPUT_loss: 0.0350\n",
      "Epoch 154/2000\n",
      "458/458 [==============================] - 20s 45ms/step - loss: 0.1057 - signal_AE_loss: 0.0730 - RUL_OUTPUT_loss: 0.0327 - val_loss: 0.1056 - val_signal_AE_loss: 0.0709 - val_RUL_OUTPUT_loss: 0.0348\n",
      "Epoch 155/2000\n",
      "458/458 [==============================] - 13s 29ms/step - loss: 0.1055 - signal_AE_loss: 0.0729 - RUL_OUTPUT_loss: 0.0326 - val_loss: 0.1058 - val_signal_AE_loss: 0.0709 - val_RUL_OUTPUT_loss: 0.0350\n",
      "Epoch 156/2000\n",
      "458/458 [==============================] - 15s 33ms/step - loss: 0.1054 - signal_AE_loss: 0.0729 - RUL_OUTPUT_loss: 0.0325 - val_loss: 0.1056 - val_signal_AE_loss: 0.0709 - val_RUL_OUTPUT_loss: 0.0347\n",
      "Epoch 157/2000\n",
      "458/458 [==============================] - 19s 41ms/step - loss: 0.1058 - signal_AE_loss: 0.0730 - RUL_OUTPUT_loss: 0.0328 - val_loss: 0.1056 - val_signal_AE_loss: 0.0708 - val_RUL_OUTPUT_loss: 0.0348\n",
      "Epoch 158/2000\n",
      "458/458 [==============================] - 16s 35ms/step - loss: 0.1054 - signal_AE_loss: 0.0730 - RUL_OUTPUT_loss: 0.0324 - val_loss: 0.1055 - val_signal_AE_loss: 0.0708 - val_RUL_OUTPUT_loss: 0.0346\n",
      "Epoch 159/2000\n",
      "458/458 [==============================] - 11s 24ms/step - loss: 0.1054 - signal_AE_loss: 0.0730 - RUL_OUTPUT_loss: 0.0324 - val_loss: 0.1054 - val_signal_AE_loss: 0.0708 - val_RUL_OUTPUT_loss: 0.0346\n",
      "Epoch 160/2000\n",
      "458/458 [==============================] - 11s 23ms/step - loss: 0.1053 - signal_AE_loss: 0.0731 - RUL_OUTPUT_loss: 0.0321 - val_loss: 0.1053 - val_signal_AE_loss: 0.0708 - val_RUL_OUTPUT_loss: 0.0344\n",
      "Epoch 161/2000\n",
      "458/458 [==============================] - 16s 34ms/step - loss: 0.1051 - signal_AE_loss: 0.0729 - RUL_OUTPUT_loss: 0.0322 - val_loss: 0.1053 - val_signal_AE_loss: 0.0708 - val_RUL_OUTPUT_loss: 0.0344\n",
      "Epoch 162/2000\n",
      "458/458 [==============================] - 20s 43ms/step - loss: 0.1052 - signal_AE_loss: 0.0728 - RUL_OUTPUT_loss: 0.0323 - val_loss: 0.1053 - val_signal_AE_loss: 0.0708 - val_RUL_OUTPUT_loss: 0.0345\n",
      "Epoch 163/2000\n",
      "458/458 [==============================] - 12s 26ms/step - loss: 0.1050 - signal_AE_loss: 0.0728 - RUL_OUTPUT_loss: 0.0322 - val_loss: 0.1051 - val_signal_AE_loss: 0.0708 - val_RUL_OUTPUT_loss: 0.0343\n",
      "Epoch 164/2000\n",
      "458/458 [==============================] - 14s 30ms/step - loss: 0.1050 - signal_AE_loss: 0.0728 - RUL_OUTPUT_loss: 0.0321 - val_loss: 0.1052 - val_signal_AE_loss: 0.0708 - val_RUL_OUTPUT_loss: 0.0344\n",
      "Epoch 165/2000\n",
      "458/458 [==============================] - 17s 36ms/step - loss: 0.1052 - signal_AE_loss: 0.0730 - RUL_OUTPUT_loss: 0.0322 - val_loss: 0.1052 - val_signal_AE_loss: 0.0708 - val_RUL_OUTPUT_loss: 0.0344\n",
      "Epoch 166/2000\n",
      "458/458 [==============================] - 13s 27ms/step - loss: 0.1051 - signal_AE_loss: 0.0730 - RUL_OUTPUT_loss: 0.0321 - val_loss: 0.1051 - val_signal_AE_loss: 0.0708 - val_RUL_OUTPUT_loss: 0.0343\n",
      "Epoch 167/2000\n",
      "458/458 [==============================] - 13s 29ms/step - loss: 0.1049 - signal_AE_loss: 0.0729 - RUL_OUTPUT_loss: 0.0321 - val_loss: 0.1049 - val_signal_AE_loss: 0.0708 - val_RUL_OUTPUT_loss: 0.0341\n",
      "Epoch 168/2000\n",
      "458/458 [==============================] - 18s 39ms/step - loss: 0.1051 - signal_AE_loss: 0.0728 - RUL_OUTPUT_loss: 0.0323 - val_loss: 0.1049 - val_signal_AE_loss: 0.0708 - val_RUL_OUTPUT_loss: 0.0341\n",
      "Epoch 169/2000\n",
      "458/458 [==============================] - 16s 35ms/step - loss: 0.1050 - signal_AE_loss: 0.0729 - RUL_OUTPUT_loss: 0.0321 - val_loss: 0.1048 - val_signal_AE_loss: 0.0708 - val_RUL_OUTPUT_loss: 0.0340\n",
      "Epoch 170/2000\n",
      "458/458 [==============================] - 17s 37ms/step - loss: 0.1051 - signal_AE_loss: 0.0730 - RUL_OUTPUT_loss: 0.0321 - val_loss: 0.1049 - val_signal_AE_loss: 0.0708 - val_RUL_OUTPUT_loss: 0.0341\n",
      "Epoch 171/2000\n",
      "458/458 [==============================] - 16s 36ms/step - loss: 0.1052 - signal_AE_loss: 0.0731 - RUL_OUTPUT_loss: 0.0321 - val_loss: 0.1047 - val_signal_AE_loss: 0.0708 - val_RUL_OUTPUT_loss: 0.0339\n",
      "Epoch 172/2000\n",
      "458/458 [==============================] - 21s 46ms/step - loss: 0.1049 - signal_AE_loss: 0.0729 - RUL_OUTPUT_loss: 0.0320 - val_loss: 0.1048 - val_signal_AE_loss: 0.0708 - val_RUL_OUTPUT_loss: 0.0340\n",
      "Epoch 173/2000\n",
      "458/458 [==============================] - 11s 24ms/step - loss: 0.1047 - signal_AE_loss: 0.0727 - RUL_OUTPUT_loss: 0.0320 - val_loss: 0.1046 - val_signal_AE_loss: 0.0708 - val_RUL_OUTPUT_loss: 0.0339\n",
      "Epoch 174/2000\n",
      "458/458 [==============================] - 19s 42ms/step - loss: 0.1047 - signal_AE_loss: 0.0729 - RUL_OUTPUT_loss: 0.0319 - val_loss: 0.1056 - val_signal_AE_loss: 0.0708 - val_RUL_OUTPUT_loss: 0.0348\n",
      "Epoch 175/2000\n",
      "458/458 [==============================] - 13s 29ms/step - loss: 0.1048 - signal_AE_loss: 0.0729 - RUL_OUTPUT_loss: 0.0319 - val_loss: 0.1046 - val_signal_AE_loss: 0.0708 - val_RUL_OUTPUT_loss: 0.0338\n",
      "Epoch 176/2000\n",
      "458/458 [==============================] - 15s 34ms/step - loss: 0.1046 - signal_AE_loss: 0.0728 - RUL_OUTPUT_loss: 0.0318 - val_loss: 0.1046 - val_signal_AE_loss: 0.0708 - val_RUL_OUTPUT_loss: 0.0338\n",
      "Epoch 177/2000\n",
      "458/458 [==============================] - 18s 40ms/step - loss: 0.1050 - signal_AE_loss: 0.0731 - RUL_OUTPUT_loss: 0.0319 - val_loss: 0.1045 - val_signal_AE_loss: 0.0708 - val_RUL_OUTPUT_loss: 0.0337\n",
      "Epoch 178/2000\n",
      "458/458 [==============================] - 14s 30ms/step - loss: 0.1046 - signal_AE_loss: 0.0728 - RUL_OUTPUT_loss: 0.0317 - val_loss: 0.1050 - val_signal_AE_loss: 0.0708 - val_RUL_OUTPUT_loss: 0.0342\n",
      "Epoch 179/2000\n",
      "458/458 [==============================] - 11s 24ms/step - loss: 0.1046 - signal_AE_loss: 0.0728 - RUL_OUTPUT_loss: 0.0318 - val_loss: 0.1043 - val_signal_AE_loss: 0.0708 - val_RUL_OUTPUT_loss: 0.0335\n",
      "Epoch 180/2000\n",
      "458/458 [==============================] - 13s 29ms/step - loss: 0.1048 - signal_AE_loss: 0.0730 - RUL_OUTPUT_loss: 0.0319 - val_loss: 0.1043 - val_signal_AE_loss: 0.0708 - val_RUL_OUTPUT_loss: 0.0335\n",
      "Epoch 181/2000\n",
      "458/458 [==============================] - 19s 42ms/step - loss: 0.1046 - signal_AE_loss: 0.0731 - RUL_OUTPUT_loss: 0.0316 - val_loss: 0.1048 - val_signal_AE_loss: 0.0708 - val_RUL_OUTPUT_loss: 0.0341\n",
      "Epoch 182/2000\n",
      "458/458 [==============================] - 15s 34ms/step - loss: 0.1046 - signal_AE_loss: 0.0729 - RUL_OUTPUT_loss: 0.0317 - val_loss: 0.1043 - val_signal_AE_loss: 0.0708 - val_RUL_OUTPUT_loss: 0.0336\n",
      "Epoch 183/2000\n",
      "458/458 [==============================] - 13s 29ms/step - loss: 0.1047 - signal_AE_loss: 0.0730 - RUL_OUTPUT_loss: 0.0318 - val_loss: 0.1043 - val_signal_AE_loss: 0.0708 - val_RUL_OUTPUT_loss: 0.0335\n",
      "Epoch 184/2000\n",
      "458/458 [==============================] - 12s 27ms/step - loss: 0.1049 - signal_AE_loss: 0.0731 - RUL_OUTPUT_loss: 0.0318 - val_loss: 0.1042 - val_signal_AE_loss: 0.0708 - val_RUL_OUTPUT_loss: 0.0335\n",
      "Epoch 185/2000\n",
      "458/458 [==============================] - 19s 41ms/step - loss: 0.1044 - signal_AE_loss: 0.0729 - RUL_OUTPUT_loss: 0.0315 - val_loss: 0.1041 - val_signal_AE_loss: 0.0708 - val_RUL_OUTPUT_loss: 0.0334\n",
      "Epoch 186/2000\n",
      "458/458 [==============================] - 20s 43ms/step - loss: 0.1045 - signal_AE_loss: 0.0729 - RUL_OUTPUT_loss: 0.0316 - val_loss: 0.1041 - val_signal_AE_loss: 0.0708 - val_RUL_OUTPUT_loss: 0.0333\n",
      "Epoch 187/2000\n",
      "458/458 [==============================] - 12s 27ms/step - loss: 0.1043 - signal_AE_loss: 0.0728 - RUL_OUTPUT_loss: 0.0315 - val_loss: 0.1041 - val_signal_AE_loss: 0.0708 - val_RUL_OUTPUT_loss: 0.0333\n",
      "Epoch 188/2000\n",
      "458/458 [==============================] - 17s 38ms/step - loss: 0.1044 - signal_AE_loss: 0.0730 - RUL_OUTPUT_loss: 0.0314 - val_loss: 0.1043 - val_signal_AE_loss: 0.0707 - val_RUL_OUTPUT_loss: 0.0336\n",
      "Epoch 189/2000\n",
      "458/458 [==============================] - 18s 40ms/step - loss: 0.1046 - signal_AE_loss: 0.0729 - RUL_OUTPUT_loss: 0.0317 - val_loss: 0.1048 - val_signal_AE_loss: 0.0707 - val_RUL_OUTPUT_loss: 0.0340\n",
      "Epoch 190/2000\n",
      "458/458 [==============================] - 14s 30ms/step - loss: 0.1044 - signal_AE_loss: 0.0729 - RUL_OUTPUT_loss: 0.0315 - val_loss: 0.1041 - val_signal_AE_loss: 0.0707 - val_RUL_OUTPUT_loss: 0.0334\n",
      "Epoch 191/2000\n",
      "458/458 [==============================] - 14s 31ms/step - loss: 0.1042 - signal_AE_loss: 0.0728 - RUL_OUTPUT_loss: 0.0314 - val_loss: 0.1041 - val_signal_AE_loss: 0.0707 - val_RUL_OUTPUT_loss: 0.0334\n",
      "\n",
      "Epoch 00191: ReduceLROnPlateau reducing learning rate to 4.999999873689376e-06.\n",
      "Epoch 192/2000\n",
      "458/458 [==============================] - 16s 35ms/step - loss: 0.1043 - signal_AE_loss: 0.0728 - RUL_OUTPUT_loss: 0.0315 - val_loss: 0.1041 - val_signal_AE_loss: 0.0707 - val_RUL_OUTPUT_loss: 0.0334\n",
      "Epoch 193/2000\n",
      "458/458 [==============================] - 15s 32ms/step - loss: 0.1043 - signal_AE_loss: 0.0729 - RUL_OUTPUT_loss: 0.0315 - val_loss: 0.1042 - val_signal_AE_loss: 0.0707 - val_RUL_OUTPUT_loss: 0.0334\n",
      "Epoch 194/2000\n",
      "458/458 [==============================] - 18s 38ms/step - loss: 0.1042 - signal_AE_loss: 0.0730 - RUL_OUTPUT_loss: 0.0312 - val_loss: 0.1040 - val_signal_AE_loss: 0.0707 - val_RUL_OUTPUT_loss: 0.0333\n",
      "Epoch 195/2000\n",
      "458/458 [==============================] - 17s 38ms/step - loss: 0.1040 - signal_AE_loss: 0.0728 - RUL_OUTPUT_loss: 0.0312 - val_loss: 0.1039 - val_signal_AE_loss: 0.0707 - val_RUL_OUTPUT_loss: 0.0332\n",
      "Epoch 196/2000\n",
      "458/458 [==============================] - 19s 41ms/step - loss: 0.1042 - signal_AE_loss: 0.0729 - RUL_OUTPUT_loss: 0.0312 - val_loss: 0.1039 - val_signal_AE_loss: 0.0707 - val_RUL_OUTPUT_loss: 0.0331\n",
      "Epoch 197/2000\n",
      "458/458 [==============================] - 13s 29ms/step - loss: 0.1044 - signal_AE_loss: 0.0729 - RUL_OUTPUT_loss: 0.0314 - val_loss: 0.1040 - val_signal_AE_loss: 0.0707 - val_RUL_OUTPUT_loss: 0.0332\n",
      "Epoch 198/2000\n",
      "458/458 [==============================] - 14s 31ms/step - loss: 0.1044 - signal_AE_loss: 0.0730 - RUL_OUTPUT_loss: 0.0313 - val_loss: 0.1039 - val_signal_AE_loss: 0.0707 - val_RUL_OUTPUT_loss: 0.0332\n",
      "Epoch 199/2000\n",
      "458/458 [==============================] - 19s 41ms/step - loss: 0.1046 - signal_AE_loss: 0.0729 - RUL_OUTPUT_loss: 0.0316 - val_loss: 0.1042 - val_signal_AE_loss: 0.0707 - val_RUL_OUTPUT_loss: 0.0335\n",
      "Epoch 200/2000\n",
      "458/458 [==============================] - 19s 40ms/step - loss: 0.1042 - signal_AE_loss: 0.0729 - RUL_OUTPUT_loss: 0.0313 - val_loss: 0.1039 - val_signal_AE_loss: 0.0707 - val_RUL_OUTPUT_loss: 0.0332\n",
      "Epoch 201/2000\n",
      "458/458 [==============================] - 10s 22ms/step - loss: 0.1041 - signal_AE_loss: 0.0728 - RUL_OUTPUT_loss: 0.0313 - val_loss: 0.1039 - val_signal_AE_loss: 0.0707 - val_RUL_OUTPUT_loss: 0.0331\n",
      "Epoch 202/2000\n",
      "458/458 [==============================] - 16s 36ms/step - loss: 0.1044 - signal_AE_loss: 0.0730 - RUL_OUTPUT_loss: 0.0313 - val_loss: 0.1040 - val_signal_AE_loss: 0.0707 - val_RUL_OUTPUT_loss: 0.0332\n",
      "Epoch 203/2000\n",
      "458/458 [==============================] - 15s 33ms/step - loss: 0.1040 - signal_AE_loss: 0.0727 - RUL_OUTPUT_loss: 0.0313 - val_loss: 0.1039 - val_signal_AE_loss: 0.0707 - val_RUL_OUTPUT_loss: 0.0332\n",
      "Epoch 204/2000\n",
      "458/458 [==============================] - 18s 38ms/step - loss: 0.1041 - signal_AE_loss: 0.0727 - RUL_OUTPUT_loss: 0.0314 - val_loss: 0.1038 - val_signal_AE_loss: 0.0707 - val_RUL_OUTPUT_loss: 0.0331\n",
      "Epoch 205/2000\n",
      "458/458 [==============================] - 18s 40ms/step - loss: 0.1041 - signal_AE_loss: 0.0729 - RUL_OUTPUT_loss: 0.0312 - val_loss: 0.1038 - val_signal_AE_loss: 0.0707 - val_RUL_OUTPUT_loss: 0.0331\n",
      "Epoch 206/2000\n",
      "458/458 [==============================] - 12s 26ms/step - loss: 0.1043 - signal_AE_loss: 0.0730 - RUL_OUTPUT_loss: 0.0312 - val_loss: 0.1038 - val_signal_AE_loss: 0.0707 - val_RUL_OUTPUT_loss: 0.0331\n",
      "Epoch 207/2000\n",
      "458/458 [==============================] - 12s 27ms/step - loss: 0.1041 - signal_AE_loss: 0.0729 - RUL_OUTPUT_loss: 0.0312 - val_loss: 0.1039 - val_signal_AE_loss: 0.0707 - val_RUL_OUTPUT_loss: 0.0332\n",
      "Epoch 208/2000\n",
      "458/458 [==============================] - 16s 34ms/step - loss: 0.1042 - signal_AE_loss: 0.0729 - RUL_OUTPUT_loss: 0.0313 - val_loss: 0.1038 - val_signal_AE_loss: 0.0707 - val_RUL_OUTPUT_loss: 0.0331\n",
      "Epoch 209/2000\n",
      "458/458 [==============================] - 19s 42ms/step - loss: 0.1043 - signal_AE_loss: 0.0729 - RUL_OUTPUT_loss: 0.0314 - val_loss: 0.1038 - val_signal_AE_loss: 0.0707 - val_RUL_OUTPUT_loss: 0.0330\n",
      "Epoch 210/2000\n",
      "458/458 [==============================] - 18s 38ms/step - loss: 0.1041 - signal_AE_loss: 0.0729 - RUL_OUTPUT_loss: 0.0312 - val_loss: 0.1039 - val_signal_AE_loss: 0.0707 - val_RUL_OUTPUT_loss: 0.0332\n",
      "Epoch 211/2000\n",
      "458/458 [==============================] - 17s 38ms/step - loss: 0.1037 - signal_AE_loss: 0.0727 - RUL_OUTPUT_loss: 0.0310 - val_loss: 0.1038 - val_signal_AE_loss: 0.0707 - val_RUL_OUTPUT_loss: 0.0331\n",
      "Epoch 212/2000\n",
      "458/458 [==============================] - 12s 26ms/step - loss: 0.1041 - signal_AE_loss: 0.0730 - RUL_OUTPUT_loss: 0.0311 - val_loss: 0.1037 - val_signal_AE_loss: 0.0707 - val_RUL_OUTPUT_loss: 0.0330\n",
      "Epoch 213/2000\n",
      "458/458 [==============================] - 16s 35ms/step - loss: 0.1042 - signal_AE_loss: 0.0728 - RUL_OUTPUT_loss: 0.0314 - val_loss: 0.1038 - val_signal_AE_loss: 0.0707 - val_RUL_OUTPUT_loss: 0.0331\n",
      "Epoch 214/2000\n",
      "458/458 [==============================] - 17s 37ms/step - loss: 0.1039 - signal_AE_loss: 0.0728 - RUL_OUTPUT_loss: 0.0311 - val_loss: 0.1037 - val_signal_AE_loss: 0.0707 - val_RUL_OUTPUT_loss: 0.0330\n",
      "Epoch 215/2000\n",
      "458/458 [==============================] - 11s 24ms/step - loss: 0.1039 - signal_AE_loss: 0.0728 - RUL_OUTPUT_loss: 0.0311 - val_loss: 0.1037 - val_signal_AE_loss: 0.0707 - val_RUL_OUTPUT_loss: 0.0330\n",
      "Epoch 216/2000\n",
      "458/458 [==============================] - 14s 30ms/step - loss: 0.1041 - signal_AE_loss: 0.0731 - RUL_OUTPUT_loss: 0.0310 - val_loss: 0.1037 - val_signal_AE_loss: 0.0707 - val_RUL_OUTPUT_loss: 0.0329\n",
      "Epoch 217/2000\n",
      "458/458 [==============================] - 16s 35ms/step - loss: 0.1040 - signal_AE_loss: 0.0729 - RUL_OUTPUT_loss: 0.0311 - val_loss: 0.1036 - val_signal_AE_loss: 0.0707 - val_RUL_OUTPUT_loss: 0.0329\n",
      "Epoch 218/2000\n",
      "458/458 [==============================] - 16s 35ms/step - loss: 0.1040 - signal_AE_loss: 0.0728 - RUL_OUTPUT_loss: 0.0312 - val_loss: 0.1036 - val_signal_AE_loss: 0.0707 - val_RUL_OUTPUT_loss: 0.0329\n",
      "Epoch 219/2000\n",
      "458/458 [==============================] - 16s 35ms/step - loss: 0.1039 - signal_AE_loss: 0.0729 - RUL_OUTPUT_loss: 0.0310 - val_loss: 0.1038 - val_signal_AE_loss: 0.0707 - val_RUL_OUTPUT_loss: 0.0331\n",
      "Epoch 220/2000\n",
      "458/458 [==============================] - 18s 40ms/step - loss: 0.1043 - signal_AE_loss: 0.0731 - RUL_OUTPUT_loss: 0.0312 - val_loss: 0.1035 - val_signal_AE_loss: 0.0707 - val_RUL_OUTPUT_loss: 0.0328\n",
      "Epoch 221/2000\n",
      "458/458 [==============================] - 14s 30ms/step - loss: 0.1042 - signal_AE_loss: 0.0731 - RUL_OUTPUT_loss: 0.0312 - val_loss: 0.1036 - val_signal_AE_loss: 0.0707 - val_RUL_OUTPUT_loss: 0.0329\n",
      "Epoch 222/2000\n",
      "458/458 [==============================] - 15s 32ms/step - loss: 0.1039 - signal_AE_loss: 0.0728 - RUL_OUTPUT_loss: 0.0311 - val_loss: 0.1036 - val_signal_AE_loss: 0.0707 - val_RUL_OUTPUT_loss: 0.0329\n",
      "Epoch 223/2000\n",
      "458/458 [==============================] - 20s 43ms/step - loss: 0.1040 - signal_AE_loss: 0.0729 - RUL_OUTPUT_loss: 0.0311 - val_loss: 0.1035 - val_signal_AE_loss: 0.0707 - val_RUL_OUTPUT_loss: 0.0328\n",
      "Epoch 224/2000\n",
      "458/458 [==============================] - 10s 21ms/step - loss: 0.1042 - signal_AE_loss: 0.0730 - RUL_OUTPUT_loss: 0.0311 - val_loss: 0.1036 - val_signal_AE_loss: 0.0707 - val_RUL_OUTPUT_loss: 0.0329\n",
      "Epoch 225/2000\n",
      "458/458 [==============================] - 16s 36ms/step - loss: 0.1040 - signal_AE_loss: 0.0729 - RUL_OUTPUT_loss: 0.0311 - val_loss: 0.1038 - val_signal_AE_loss: 0.0707 - val_RUL_OUTPUT_loss: 0.0331\n",
      "Epoch 226/2000\n",
      "458/458 [==============================] - 13s 29ms/step - loss: 0.1043 - signal_AE_loss: 0.0731 - RUL_OUTPUT_loss: 0.0312 - val_loss: 0.1037 - val_signal_AE_loss: 0.0707 - val_RUL_OUTPUT_loss: 0.0329\n",
      "Epoch 227/2000\n",
      "458/458 [==============================] - 18s 39ms/step - loss: 0.1036 - signal_AE_loss: 0.0727 - RUL_OUTPUT_loss: 0.0309 - val_loss: 0.1035 - val_signal_AE_loss: 0.0707 - val_RUL_OUTPUT_loss: 0.0328\n",
      "Epoch 228/2000\n",
      "458/458 [==============================] - 16s 36ms/step - loss: 0.1040 - signal_AE_loss: 0.0731 - RUL_OUTPUT_loss: 0.0309 - val_loss: 0.1038 - val_signal_AE_loss: 0.0707 - val_RUL_OUTPUT_loss: 0.0331\n",
      "Epoch 229/2000\n",
      "458/458 [==============================] - 14s 30ms/step - loss: 0.1039 - signal_AE_loss: 0.0729 - RUL_OUTPUT_loss: 0.0311 - val_loss: 0.1034 - val_signal_AE_loss: 0.0707 - val_RUL_OUTPUT_loss: 0.0327\n",
      "Epoch 230/2000\n",
      "458/458 [==============================] - 10s 22ms/step - loss: 0.1037 - signal_AE_loss: 0.0728 - RUL_OUTPUT_loss: 0.0309 - val_loss: 0.1035 - val_signal_AE_loss: 0.0707 - val_RUL_OUTPUT_loss: 0.0328\n",
      "Epoch 231/2000\n",
      "458/458 [==============================] - 11s 25ms/step - loss: 0.1040 - signal_AE_loss: 0.0728 - RUL_OUTPUT_loss: 0.0312 - val_loss: 0.1034 - val_signal_AE_loss: 0.0707 - val_RUL_OUTPUT_loss: 0.0327\n",
      "Epoch 232/2000\n",
      "458/458 [==============================] - 15s 33ms/step - loss: 0.1036 - signal_AE_loss: 0.0727 - RUL_OUTPUT_loss: 0.0309 - val_loss: 0.1038 - val_signal_AE_loss: 0.0707 - val_RUL_OUTPUT_loss: 0.0331\n",
      "Epoch 233/2000\n",
      "458/458 [==============================] - 15s 33ms/step - loss: 0.1038 - signal_AE_loss: 0.0727 - RUL_OUTPUT_loss: 0.0310 - val_loss: 0.1034 - val_signal_AE_loss: 0.0707 - val_RUL_OUTPUT_loss: 0.0327\n",
      "Epoch 234/2000\n",
      "458/458 [==============================] - 12s 26ms/step - loss: 0.1035 - signal_AE_loss: 0.0727 - RUL_OUTPUT_loss: 0.0308 - val_loss: 0.1036 - val_signal_AE_loss: 0.0707 - val_RUL_OUTPUT_loss: 0.0329\n",
      "Epoch 235/2000\n",
      "458/458 [==============================] - 18s 39ms/step - loss: 0.1038 - signal_AE_loss: 0.0729 - RUL_OUTPUT_loss: 0.0309 - val_loss: 0.1035 - val_signal_AE_loss: 0.0707 - val_RUL_OUTPUT_loss: 0.0328\n",
      "Epoch 236/2000\n",
      "458/458 [==============================] - 13s 28ms/step - loss: 0.1041 - signal_AE_loss: 0.0729 - RUL_OUTPUT_loss: 0.0312 - val_loss: 0.1035 - val_signal_AE_loss: 0.0707 - val_RUL_OUTPUT_loss: 0.0328\n",
      "Epoch 237/2000\n",
      "458/458 [==============================] - 15s 32ms/step - loss: 0.1036 - signal_AE_loss: 0.0727 - RUL_OUTPUT_loss: 0.0309 - val_loss: 0.1037 - val_signal_AE_loss: 0.0707 - val_RUL_OUTPUT_loss: 0.0330\n",
      "Epoch 238/2000\n",
      "458/458 [==============================] - 11s 24ms/step - loss: 0.1041 - signal_AE_loss: 0.0731 - RUL_OUTPUT_loss: 0.0310 - val_loss: 0.1033 - val_signal_AE_loss: 0.0707 - val_RUL_OUTPUT_loss: 0.0326\n",
      "Epoch 239/2000\n",
      "458/458 [==============================] - 13s 28ms/step - loss: 0.1040 - signal_AE_loss: 0.0729 - RUL_OUTPUT_loss: 0.0311 - val_loss: 0.1035 - val_signal_AE_loss: 0.0707 - val_RUL_OUTPUT_loss: 0.0328\n",
      "Epoch 240/2000\n",
      "458/458 [==============================] - 14s 30ms/step - loss: 0.1037 - signal_AE_loss: 0.0729 - RUL_OUTPUT_loss: 0.0308 - val_loss: 0.1035 - val_signal_AE_loss: 0.0707 - val_RUL_OUTPUT_loss: 0.0328\n",
      "Epoch 241/2000\n",
      "458/458 [==============================] - 20s 44ms/step - loss: 0.1038 - signal_AE_loss: 0.0730 - RUL_OUTPUT_loss: 0.0308 - val_loss: 0.1034 - val_signal_AE_loss: 0.0707 - val_RUL_OUTPUT_loss: 0.0327\n",
      "Epoch 242/2000\n",
      "458/458 [==============================] - 17s 36ms/step - loss: 0.1037 - signal_AE_loss: 0.0729 - RUL_OUTPUT_loss: 0.0308 - val_loss: 0.1037 - val_signal_AE_loss: 0.0707 - val_RUL_OUTPUT_loss: 0.0330\n",
      "Epoch 243/2000\n",
      "458/458 [==============================] - 14s 30ms/step - loss: 0.1038 - signal_AE_loss: 0.0730 - RUL_OUTPUT_loss: 0.0308 - val_loss: 0.1034 - val_signal_AE_loss: 0.0707 - val_RUL_OUTPUT_loss: 0.0327\n",
      "\n",
      "Epoch 00243: ReduceLROnPlateau reducing learning rate to 2.499999936844688e-06.\n",
      "Epoch 244/2000\n",
      "458/458 [==============================] - 12s 25ms/step - loss: 0.1040 - signal_AE_loss: 0.0729 - RUL_OUTPUT_loss: 0.0310 - val_loss: 0.1033 - val_signal_AE_loss: 0.0707 - val_RUL_OUTPUT_loss: 0.0326\n",
      "Epoch 245/2000\n",
      "458/458 [==============================] - 16s 35ms/step - loss: 0.1035 - signal_AE_loss: 0.0728 - RUL_OUTPUT_loss: 0.0307 - val_loss: 0.1034 - val_signal_AE_loss: 0.0707 - val_RUL_OUTPUT_loss: 0.0327\n",
      "Epoch 246/2000\n",
      "458/458 [==============================] - 14s 31ms/step - loss: 0.1038 - signal_AE_loss: 0.0730 - RUL_OUTPUT_loss: 0.0308 - val_loss: 0.1034 - val_signal_AE_loss: 0.0707 - val_RUL_OUTPUT_loss: 0.0327\n",
      "Epoch 247/2000\n",
      "458/458 [==============================] - 15s 32ms/step - loss: 0.1037 - signal_AE_loss: 0.0728 - RUL_OUTPUT_loss: 0.0309 - val_loss: 0.1033 - val_signal_AE_loss: 0.0707 - val_RUL_OUTPUT_loss: 0.0326\n",
      "Epoch 248/2000\n",
      "458/458 [==============================] - 17s 37ms/step - loss: 0.1037 - signal_AE_loss: 0.0728 - RUL_OUTPUT_loss: 0.0309 - val_loss: 0.1033 - val_signal_AE_loss: 0.0707 - val_RUL_OUTPUT_loss: 0.0326\n",
      "Epoch 249/2000\n",
      "458/458 [==============================] - 17s 37ms/step - loss: 0.1036 - signal_AE_loss: 0.0728 - RUL_OUTPUT_loss: 0.0308 - val_loss: 0.1033 - val_signal_AE_loss: 0.0707 - val_RUL_OUTPUT_loss: 0.0326\n",
      "Epoch 250/2000\n",
      "458/458 [==============================] - 13s 28ms/step - loss: 0.1035 - signal_AE_loss: 0.0728 - RUL_OUTPUT_loss: 0.0307 - val_loss: 0.1033 - val_signal_AE_loss: 0.0707 - val_RUL_OUTPUT_loss: 0.0326\n",
      "Epoch 251/2000\n",
      "458/458 [==============================] - 18s 38ms/step - loss: 0.1033 - signal_AE_loss: 0.0726 - RUL_OUTPUT_loss: 0.0307 - val_loss: 0.1033 - val_signal_AE_loss: 0.0707 - val_RUL_OUTPUT_loss: 0.0326\n",
      "Epoch 252/2000\n",
      "458/458 [==============================] - 10s 22ms/step - loss: 0.1036 - signal_AE_loss: 0.0728 - RUL_OUTPUT_loss: 0.0308 - val_loss: 0.1033 - val_signal_AE_loss: 0.0707 - val_RUL_OUTPUT_loss: 0.0326\n",
      "Epoch 253/2000\n",
      "458/458 [==============================] - 19s 42ms/step - loss: 0.1036 - signal_AE_loss: 0.0727 - RUL_OUTPUT_loss: 0.0309 - val_loss: 0.1033 - val_signal_AE_loss: 0.0707 - val_RUL_OUTPUT_loss: 0.0326\n",
      "Epoch 254/2000\n",
      "458/458 [==============================] - 14s 32ms/step - loss: 0.1034 - signal_AE_loss: 0.0728 - RUL_OUTPUT_loss: 0.0306 - val_loss: 0.1035 - val_signal_AE_loss: 0.0707 - val_RUL_OUTPUT_loss: 0.0328\n",
      "Epoch 255/2000\n",
      "458/458 [==============================] - 14s 30ms/step - loss: 0.1036 - signal_AE_loss: 0.0727 - RUL_OUTPUT_loss: 0.0310 - val_loss: 0.1033 - val_signal_AE_loss: 0.0707 - val_RUL_OUTPUT_loss: 0.0327\n",
      "Epoch 256/2000\n",
      "458/458 [==============================] - 19s 42ms/step - loss: 0.1037 - signal_AE_loss: 0.0728 - RUL_OUTPUT_loss: 0.0309 - val_loss: 0.1034 - val_signal_AE_loss: 0.0707 - val_RUL_OUTPUT_loss: 0.0327\n",
      "Epoch 257/2000\n",
      "458/458 [==============================] - 9s 20ms/step - loss: 0.1034 - signal_AE_loss: 0.0728 - RUL_OUTPUT_loss: 0.0305 - val_loss: 0.1034 - val_signal_AE_loss: 0.0707 - val_RUL_OUTPUT_loss: 0.0327\n",
      "Epoch 258/2000\n",
      "458/458 [==============================] - 15s 33ms/step - loss: 0.1038 - signal_AE_loss: 0.0728 - RUL_OUTPUT_loss: 0.0310 - val_loss: 0.1032 - val_signal_AE_loss: 0.0707 - val_RUL_OUTPUT_loss: 0.0325\n",
      "Epoch 259/2000\n",
      "458/458 [==============================] - 20s 43ms/step - loss: 0.1036 - signal_AE_loss: 0.0728 - RUL_OUTPUT_loss: 0.0308 - val_loss: 0.1033 - val_signal_AE_loss: 0.0707 - val_RUL_OUTPUT_loss: 0.0326\n",
      "Epoch 260/2000\n",
      "458/458 [==============================] - 14s 31ms/step - loss: 0.1036 - signal_AE_loss: 0.0729 - RUL_OUTPUT_loss: 0.0307 - val_loss: 0.1033 - val_signal_AE_loss: 0.0707 - val_RUL_OUTPUT_loss: 0.0326\n",
      "Epoch 261/2000\n",
      "458/458 [==============================] - 16s 34ms/step - loss: 0.1035 - signal_AE_loss: 0.0727 - RUL_OUTPUT_loss: 0.0308 - val_loss: 0.1034 - val_signal_AE_loss: 0.0707 - val_RUL_OUTPUT_loss: 0.0327\n",
      "Epoch 262/2000\n",
      "458/458 [==============================] - 11s 24ms/step - loss: 0.1037 - signal_AE_loss: 0.0729 - RUL_OUTPUT_loss: 0.0308 - val_loss: 0.1032 - val_signal_AE_loss: 0.0707 - val_RUL_OUTPUT_loss: 0.0325\n",
      "Epoch 263/2000\n",
      "458/458 [==============================] - 14s 31ms/step - loss: 0.1039 - signal_AE_loss: 0.0730 - RUL_OUTPUT_loss: 0.0309 - val_loss: 0.1033 - val_signal_AE_loss: 0.0707 - val_RUL_OUTPUT_loss: 0.0326\n",
      "Epoch 264/2000\n",
      "458/458 [==============================] - 18s 39ms/step - loss: 0.1036 - signal_AE_loss: 0.0730 - RUL_OUTPUT_loss: 0.0307 - val_loss: 0.1033 - val_signal_AE_loss: 0.0707 - val_RUL_OUTPUT_loss: 0.0326\n",
      "Epoch 265/2000\n",
      "458/458 [==============================] - 17s 37ms/step - loss: 0.1038 - signal_AE_loss: 0.0729 - RUL_OUTPUT_loss: 0.0309 - val_loss: 0.1032 - val_signal_AE_loss: 0.0707 - val_RUL_OUTPUT_loss: 0.0325\n",
      "Epoch 266/2000\n",
      "458/458 [==============================] - 12s 26ms/step - loss: 0.1035 - signal_AE_loss: 0.0728 - RUL_OUTPUT_loss: 0.0307 - val_loss: 0.1033 - val_signal_AE_loss: 0.0707 - val_RUL_OUTPUT_loss: 0.0326\n",
      "Epoch 267/2000\n",
      "458/458 [==============================] - 19s 41ms/step - loss: 0.1034 - signal_AE_loss: 0.0728 - RUL_OUTPUT_loss: 0.0306 - val_loss: 0.1033 - val_signal_AE_loss: 0.0707 - val_RUL_OUTPUT_loss: 0.0326\n",
      "Epoch 268/2000\n",
      "458/458 [==============================] - 18s 38ms/step - loss: 0.1034 - signal_AE_loss: 0.0728 - RUL_OUTPUT_loss: 0.0307 - val_loss: 0.1032 - val_signal_AE_loss: 0.0707 - val_RUL_OUTPUT_loss: 0.0325\n",
      "Epoch 269/2000\n",
      "458/458 [==============================] - 18s 39ms/step - loss: 0.1035 - signal_AE_loss: 0.0728 - RUL_OUTPUT_loss: 0.0307 - val_loss: 0.1032 - val_signal_AE_loss: 0.0707 - val_RUL_OUTPUT_loss: 0.0325\n",
      "Epoch 270/2000\n",
      "458/458 [==============================] - 12s 27ms/step - loss: 0.1035 - signal_AE_loss: 0.0729 - RUL_OUTPUT_loss: 0.0306 - val_loss: 0.1032 - val_signal_AE_loss: 0.0707 - val_RUL_OUTPUT_loss: 0.0325\n",
      "Epoch 271/2000\n",
      "458/458 [==============================] - 16s 35ms/step - loss: 0.1036 - signal_AE_loss: 0.0729 - RUL_OUTPUT_loss: 0.0307 - val_loss: 0.1034 - val_signal_AE_loss: 0.0707 - val_RUL_OUTPUT_loss: 0.0327\n",
      "Epoch 272/2000\n",
      "458/458 [==============================] - 13s 28ms/step - loss: 0.1035 - signal_AE_loss: 0.0727 - RUL_OUTPUT_loss: 0.0308 - val_loss: 0.1032 - val_signal_AE_loss: 0.0707 - val_RUL_OUTPUT_loss: 0.0325\n",
      "Epoch 273/2000\n",
      "458/458 [==============================] - 17s 38ms/step - loss: 0.1031 - signal_AE_loss: 0.0727 - RUL_OUTPUT_loss: 0.0304 - val_loss: 0.1032 - val_signal_AE_loss: 0.0707 - val_RUL_OUTPUT_loss: 0.0325\n",
      "Epoch 274/2000\n",
      "458/458 [==============================] - 15s 32ms/step - loss: 0.1039 - signal_AE_loss: 0.0728 - RUL_OUTPUT_loss: 0.0310 - val_loss: 0.1033 - val_signal_AE_loss: 0.0707 - val_RUL_OUTPUT_loss: 0.0326\n",
      "Epoch 275/2000\n",
      "458/458 [==============================] - 13s 28ms/step - loss: 0.1034 - signal_AE_loss: 0.0728 - RUL_OUTPUT_loss: 0.0306 - val_loss: 0.1033 - val_signal_AE_loss: 0.0707 - val_RUL_OUTPUT_loss: 0.0326\n",
      "Epoch 276/2000\n",
      "458/458 [==============================] - 14s 30ms/step - loss: 0.1035 - signal_AE_loss: 0.0729 - RUL_OUTPUT_loss: 0.0306 - val_loss: 0.1033 - val_signal_AE_loss: 0.0707 - val_RUL_OUTPUT_loss: 0.0326\n",
      "Epoch 277/2000\n",
      "458/458 [==============================] - 14s 31ms/step - loss: 0.1037 - signal_AE_loss: 0.0731 - RUL_OUTPUT_loss: 0.0306 - val_loss: 0.1032 - val_signal_AE_loss: 0.0707 - val_RUL_OUTPUT_loss: 0.0325\n",
      "Epoch 278/2000\n",
      "458/458 [==============================] - 15s 33ms/step - loss: 0.1037 - signal_AE_loss: 0.0731 - RUL_OUTPUT_loss: 0.0306 - val_loss: 0.1032 - val_signal_AE_loss: 0.0707 - val_RUL_OUTPUT_loss: 0.0325\n",
      "\n",
      "Epoch 00278: ReduceLROnPlateau reducing learning rate to 1.249999968422344e-06.\n",
      "Epoch 279/2000\n",
      "458/458 [==============================] - 17s 38ms/step - loss: 0.1036 - signal_AE_loss: 0.0730 - RUL_OUTPUT_loss: 0.0306 - val_loss: 0.1033 - val_signal_AE_loss: 0.0707 - val_RUL_OUTPUT_loss: 0.0326\n",
      "Epoch 280/2000\n",
      "458/458 [==============================] - 13s 29ms/step - loss: 0.1036 - signal_AE_loss: 0.0728 - RUL_OUTPUT_loss: 0.0309 - val_loss: 0.1032 - val_signal_AE_loss: 0.0707 - val_RUL_OUTPUT_loss: 0.0325\n",
      "Epoch 281/2000\n",
      "458/458 [==============================] - 11s 23ms/step - loss: 0.1037 - signal_AE_loss: 0.0729 - RUL_OUTPUT_loss: 0.0308 - val_loss: 0.1032 - val_signal_AE_loss: 0.0707 - val_RUL_OUTPUT_loss: 0.0325\n"
     ]
    }
   ],
   "source": [
    "import time\n",
    "start = time.time()\n",
    "\n",
    "reduce_lr = cb.ReduceLROnPlateau(monitor='val_loss', factor=0.5, min_lr=1e-6,\n",
    "                                 patience=5, cooldown=25, min_delta=0, verbose=1)\n",
    "\n",
    "early_stop = cb.EarlyStopping(monitor='val_loss', patience=8, min_delta=0)\n",
    "\n",
    "callbacks = [early_stop, reduce_lr]\n",
    "\n",
    "\n",
    "hist = model.fit(x = x_train,\n",
    "                 y = {'signal_AE':x_train,\n",
    "                      'RUL_OUTPUT':y_train},\n",
    "                 validation_data = (x_val, [x_val, y_val]),\n",
    "                       epochs = 2000,\n",
    "                       batch_size = 256,\n",
    "                       callbacks=callbacks)\n",
    "\n",
    "#combination.save_weights(MODEL_SAVE_DIR_PATH + 'last_version.hdf5')"
   ]
  },
  {
   "cell_type": "code",
   "execution_count": 65,
   "id": "altered-sierra",
   "metadata": {},
   "outputs": [],
   "source": [
    "ru = model.predict(x_train)[1]"
   ]
  },
  {
   "cell_type": "code",
   "execution_count": 64,
   "id": "directed-taylor",
   "metadata": {},
   "outputs": [],
   "source": [
    "T = np.array(INDEX)-19\n",
    "\n",
    "pre_index = np.cumsum(np.array(INDEX)-19)\n",
    "pre_index=np.insert(pre_index, 0, 0)\n",
    "#pre_index"
   ]
  },
  {
   "cell_type": "code",
   "execution_count": 74,
   "id": "certain-davis",
   "metadata": {},
   "outputs": [
    {
     "data": {
      "text/plain": [
       "568"
      ]
     },
     "execution_count": 74,
     "metadata": {},
     "output_type": "execute_result"
    }
   ],
   "source": [
    "len(pre_index)"
   ]
  },
  {
   "cell_type": "code",
   "execution_count": 78,
   "id": "functioning-algebra",
   "metadata": {},
   "outputs": [
    {
     "data": {
      "image/png": "[encoded data removed]",
      "text/plain": [
       "<Figure size 432x288 with 1 Axes>"
      ]
     },
     "metadata": {
      "needs_background": "light"
     },
     "output_type": "display_data"
    }
   ],
   "source": [
    "for k in range(20):\n",
    "    t = np.arange(T[k])\n",
    "    plt.plot(t, ru[pre_index[k]:pre_index[k+1]])\n",
    "    #plt.plot(t, y_train[pre_index[k]:pre_index[k+1]])"
   ]
  },
  {
   "cell_type": "code",
   "execution_count": 86,
   "id": "nervous-scout",
   "metadata": {
    "tags": []
   },
   "outputs": [],
   "source": [
    "pre_test_index = np.cumsum(np.array(INDEX_test)-19)\n",
    "pre_test_index = np.insert(pre_test_index, 0, 0)"
   ]
  },
  {
   "cell_type": "code",
   "execution_count": 92,
   "id": "successful-identifier",
   "metadata": {},
   "outputs": [],
   "source": [
    "pre_test = model.predict(x_test)[1]"
   ]
  },
  {
   "cell_type": "code",
   "execution_count": 198,
   "id": "after-capture",
   "metadata": {},
   "outputs": [
    {
     "data": {
      "image/png": "[encoded data removed]",
      "text/plain": [
       "<Figure size 432x288 with 1 Axes>"
      ]
     },
     "metadata": {
      "needs_background": "light"
     },
     "output_type": "display_data"
    }
   ],
   "source": [
    "k = 6\n",
    "plt.plot(pre_test[pre_index[k]:pre_index[k+1]][-50:])\n",
    "plt.show()"
   ]
  },
  {
   "cell_type": "code",
   "execution_count": 176,
   "id": "announced-therapy",
   "metadata": {},
   "outputs": [
    {
     "data": {
      "text/plain": [
       "array([[0.38681522],\n",
       "       [0.387568  ],\n",
       "       [0.39090207],\n",
       "       [0.3761721 ],\n",
       "       [0.3722973 ],\n",
       "       [0.36864114],\n",
       "       [0.38414592],\n",
       "       [0.39665544],\n",
       "       [0.3885908 ],\n",
       "       [0.37658226],\n",
       "       [0.36414257],\n",
       "       [0.33333346]], dtype=float32)"
      ]
     },
     "execution_count": 176,
     "metadata": {},
     "output_type": "execute_result"
    }
   ],
   "source": [
    "pre_test[pre_test_index[k]:pre_test_index[k+1]]"
   ]
  },
  {
   "cell_type": "code",
   "execution_count": 228,
   "id": "editorial-income",
   "metadata": {},
   "outputs": [
    {
     "name": "stdout",
     "output_type": "stream",
     "text": [
      "[[27.46170767]]\n",
      "RUL    15\n",
      "Name: 4, dtype: int64\n"
     ]
    },
    {
     "data": {
      "image/png": "[encoded data removed]",
      "text/plain": [
       "<Figure size 432x288 with 1 Axes>"
      ]
     },
     "metadata": {
      "needs_background": "light"
     },
     "output_type": "display_data"
    }
   ],
   "source": [
    "from sklearn.linear_model import LinearRegression\n",
    "k = 104\n",
    "observ = 20\n",
    "\n",
    "linear_reg_y = pre_test[pre_test_index[k]:pre_test_index[k+1]][-observ:]\n",
    "linear_reg_x = np.arange(observ).reshape(-1,1)\n",
    "\n",
    "reg = LinearRegression().fit(linear_reg_x, linear_reg_y)\n",
    "reg.score(linear_reg_x, linear_reg_y)\n",
    "A, B = reg.coef_, reg.intercept_\n",
    "print((1-B)/A)\n",
    "print(RUL[1].loc[k-100])\n",
    "\n",
    "need_x = int((1-B)/A)\n",
    "#plt.plot(linear_reg_y)\n",
    "plt.scatter(linear_reg_x, linear_reg_y)\n",
    "plt.plot((A*np.arange(need_x)+B).flatten(), 'r')\n",
    "plt.show()"
   ]
  },
  {
   "cell_type": "code",
   "execution_count": 147,
   "id": "dense-country",
   "metadata": {},
   "outputs": [
    {
     "data": {
      "text/plain": [
       "RUL    91\n",
       "Name: 6, dtype: int64"
      ]
     },
     "execution_count": 147,
     "metadata": {},
     "output_type": "execute_result"
    }
   ],
   "source": [
    "RUL[0].loc[6]"
   ]
  },
  {
   "cell_type": "code",
   "execution_count": 119,
   "id": "latter-martial",
   "metadata": {},
   "outputs": [],
   "source": [
    "signal_AE = Model(model.get_layer('signal_inputs').input, model.get_layer('signal_AE').output)\n",
    "signal_Encoder = Model(model.get_layer('signal_inputs').input, model.get_layer('dense_20').output)"
   ]
  },
  {
   "cell_type": "code",
   "execution_count": 120,
   "id": "internal-chemical",
   "metadata": {},
   "outputs": [],
   "source": [
    "recon = signal_AE.predict(x_train[pre_index[k]:pre_index[k+1]])"
   ]
  },
  {
   "cell_type": "code",
   "execution_count": 122,
   "id": "guided-crowd",
   "metadata": {},
   "outputs": [
    {
     "data": {
      "text/plain": [
       "(181, 20, 9)"
      ]
     },
     "execution_count": 122,
     "metadata": {},
     "output_type": "execute_result"
    }
   ],
   "source": [
    "recon.shape"
   ]
  },
  {
   "cell_type": "code",
   "execution_count": 130,
   "id": "brazilian-tooth",
   "metadata": {},
   "outputs": [
    {
     "data": {
      "text/plain": [
       "(181, 20, 9)"
      ]
     },
     "execution_count": 130,
     "metadata": {},
     "output_type": "execute_result"
    }
   ],
   "source": [
    "x_train[pre_index[k]:pre_index[k+1]].shape"
   ]
  },
  {
   "cell_type": "code",
   "execution_count": 135,
   "id": "regulated-manor",
   "metadata": {},
   "outputs": [
    {
     "data": {
      "text/plain": [
       "[<matplotlib.lines.Line2D at 0x2b05df934c0>]"
      ]
     },
     "execution_count": 135,
     "metadata": {},
     "output_type": "execute_result"
    },
    {
     "data": {
      "image/png": "[encoded data removed]",
      "text/plain": [
       "<Figure size 432x288 with 1 Axes>"
      ]
     },
     "metadata": {
      "needs_background": "light"
     },
     "output_type": "display_data"
    }
   ],
   "source": [
    "plt.plot(recon[34,:,8])\n",
    "plt.plot(x_train[pre_index[k]:pre_index[k+1]][34,:,8])"
   ]
  },
  {
   "cell_type": "code",
   "execution_count": 127,
   "id": "boring-playback",
   "metadata": {},
   "outputs": [
    {
     "data": {
      "text/plain": [
       "(117109, 20, 9)"
      ]
     },
     "execution_count": 127,
     "metadata": {},
     "output_type": "execute_result"
    }
   ],
   "source": [
    "x_train.shape"
   ]
  },
  {
   "cell_type": "code",
   "execution_count": 137,
   "id": "failing-reservoir",
   "metadata": {},
   "outputs": [],
   "source": [
    "MODEL_SAVE_DIR_PATH = 'C:/Users/HYKP/PycharmProjects/bistel/CMAPSS/model_weight/'\n",
    "model.save_weights(MODEL_SAVE_DIR_PATH + 'lstm_feae.hdf5')"
   ]
  }
 ],
 "metadata": {
  "kernelspec": {
   "display_name": "Python 3",
   "language": "python",
   "name": "python3"
  },
  "language_info": {
   "codemirror_mode": {
    "name": "ipython",
    "version": 3
   },
   "file_extension": ".py",
   "mimetype": "text/x-python",
   "name": "python",
   "nbconvert_exporter": "python",
   "pygments_lexer": "ipython3",
   "version": "3.8.8"
  }
 },
 "nbformat": 4,
 "nbformat_minor": 5
}
